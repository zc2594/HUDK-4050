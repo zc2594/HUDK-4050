{
 "cells": [
  {
   "cell_type": "markdown",
   "metadata": {},
   "source": [
    "# Analysis Challenge Assignment 3"
   ]
  },
  {
   "cell_type": "markdown",
   "metadata": {},
   "source": [
    "Author: Zecheng Chang  \n",
    "Course: HUDK 4050"
   ]
  },
  {
   "cell_type": "code",
   "execution_count": 1,
   "metadata": {},
   "outputs": [],
   "source": [
    "# import packages\n",
    "import pandas as pd\n",
    "import numpy as np\n",
    "from sklearn.preprocessing import MinMaxScaler\n",
    "from sklearn.cluster import KMeans\n",
    "from matplotlib import pyplot as plt\n",
    "\n",
    "%matplotlib inline"
   ]
  },
  {
   "cell_type": "markdown",
   "metadata": {},
   "source": [
    "#### import data"
   ]
  },
  {
   "cell_type": "code",
   "execution_count": 2,
   "metadata": {},
   "outputs": [
    {
     "name": "stderr",
     "output_type": "stream",
     "text": [
      "/Users/czc/opt/anaconda3/lib/python3.7/site-packages/IPython/core/interactiveshell.py:3058: DtypeWarning: Columns (7,9,1427,1542,1561,1575) have mixed types. Specify dtype option on import or set low_memory=False.\n",
      "  interactivity=interactivity, compiler=compiler, result=result)\n"
     ]
    }
   ],
   "source": [
    "data = pd.read_csv('aca3_dataset/CollegeScorecard.csv')"
   ]
  },
  {
   "cell_type": "code",
   "execution_count": 3,
   "metadata": {},
   "outputs": [],
   "source": [
    "data_dict = pd.read_csv('aca3_dataset/CollegeScorecardDataDictionary-09-12-2015.csv')"
   ]
  },
  {
   "cell_type": "markdown",
   "metadata": {},
   "source": [
    "Since we are using the data as we used in Analysis Challenge Assignment 1, there are some same process I will omit in this one."
   ]
  },
  {
   "cell_type": "markdown",
   "metadata": {},
   "source": [
    "The goal of this project is to identify clusters of similar colleges and universities, I'll choose some variables among the 1725 variables in total. The criteria of choosing the variables is whether the variable a characteristic of the shcool and whether this characteristic will affect students with different backgroud, especially background of family."
   ]
  },
  {
   "cell_type": "markdown",
   "metadata": {},
   "source": [
    "Here are the variables I choose:\n",
    "1. In-state tuition and fees, TUITIONFEE_IN\n",
    "2. Out-of-state tuition and fees, TUITIONFEE_OUT\n",
    "3. Median Household income, median_hh_inc\n",
    "4. Admission Rate, ADM_RATE_ALL\n",
    "5. Average SAT equivalent score of students admitted, SAT_AVG\n",
    "6. Percentage first generation students, PAR_ED_PCT_1STGEN"
   ]
  },
  {
   "cell_type": "code",
   "execution_count": 4,
   "metadata": {},
   "outputs": [],
   "source": [
    "df = data[['TUITIONFEE_IN','TUITIONFEE_OUT','median_hh_inc','ADM_RATE_ALL','SAT_AVG','PAR_ED_PCT_1STGEN']]"
   ]
  },
  {
   "cell_type": "code",
   "execution_count": 5,
   "metadata": {},
   "outputs": [
    {
     "name": "stdout",
     "output_type": "stream",
     "text": [
      "<class 'pandas.core.frame.DataFrame'>\n",
      "RangeIndex: 7804 entries, 0 to 7803\n",
      "Data columns (total 6 columns):\n",
      "TUITIONFEE_IN        4415 non-null float64\n",
      "TUITIONFEE_OUT       4196 non-null float64\n",
      "median_hh_inc        0 non-null float64\n",
      "ADM_RATE_ALL         2484 non-null float64\n",
      "SAT_AVG              1420 non-null float64\n",
      "PAR_ED_PCT_1STGEN    7597 non-null object\n",
      "dtypes: float64(5), object(1)\n",
      "memory usage: 365.9+ KB\n"
     ]
    }
   ],
   "source": [
    "df.info()"
   ]
  },
  {
   "cell_type": "markdown",
   "metadata": {},
   "source": [
    "Looks like there are a lot of missing values , expecially for median_hh_inc, alternatives are needed."
   ]
  },
  {
   "cell_type": "markdown",
   "metadata": {},
   "source": [
    "I'll be using another three variables that can be used to describe the income of the students' family, they are `DEP_INC_PCT_M1`, `DEP_INC_PCT_M1`, `DEP_INC_PCT_M2`, `DEP_INC_PCT_H1`, `DEP_INC_PCT_H2`"
   ]
  },
  {
   "cell_type": "code",
   "execution_count": 6,
   "metadata": {},
   "outputs": [
    {
     "data": {
      "text/html": [
       "<div>\n",
       "<style scoped>\n",
       "    .dataframe tbody tr th:only-of-type {\n",
       "        vertical-align: middle;\n",
       "    }\n",
       "\n",
       "    .dataframe tbody tr th {\n",
       "        vertical-align: top;\n",
       "    }\n",
       "\n",
       "    .dataframe thead th {\n",
       "        text-align: right;\n",
       "    }\n",
       "</style>\n",
       "<table border=\"1\" class=\"dataframe\">\n",
       "  <thead>\n",
       "    <tr style=\"text-align: right;\">\n",
       "      <th></th>\n",
       "      <th>DEP_INC_PCT_M1</th>\n",
       "      <th>DEP_INC_PCT_M1</th>\n",
       "      <th>DEP_INC_PCT_M2</th>\n",
       "      <th>DEP_INC_PCT_H1</th>\n",
       "      <th>DEP_INC_PCT_H2</th>\n",
       "    </tr>\n",
       "  </thead>\n",
       "  <tbody>\n",
       "    <tr>\n",
       "      <td>0</td>\n",
       "      <td>PrivacySuppressed</td>\n",
       "      <td>PrivacySuppressed</td>\n",
       "      <td>PrivacySuppressed</td>\n",
       "      <td>PrivacySuppressed</td>\n",
       "      <td>0.030202926</td>\n",
       "    </tr>\n",
       "    <tr>\n",
       "      <td>1</td>\n",
       "      <td>0.17260274</td>\n",
       "      <td>0.17260274</td>\n",
       "      <td>0.165601218</td>\n",
       "      <td>0.16042618</td>\n",
       "      <td>0.138508371</td>\n",
       "    </tr>\n",
       "    <tr>\n",
       "      <td>2</td>\n",
       "      <td>PrivacySuppressed</td>\n",
       "      <td>PrivacySuppressed</td>\n",
       "      <td>PrivacySuppressed</td>\n",
       "      <td>PrivacySuppressed</td>\n",
       "      <td>PrivacySuppressed</td>\n",
       "    </tr>\n",
       "  </tbody>\n",
       "</table>\n",
       "</div>"
      ],
      "text/plain": [
       "      DEP_INC_PCT_M1     DEP_INC_PCT_M1     DEP_INC_PCT_M2     DEP_INC_PCT_H1  \\\n",
       "0  PrivacySuppressed  PrivacySuppressed  PrivacySuppressed  PrivacySuppressed   \n",
       "1         0.17260274         0.17260274        0.165601218         0.16042618   \n",
       "2  PrivacySuppressed  PrivacySuppressed  PrivacySuppressed  PrivacySuppressed   \n",
       "\n",
       "      DEP_INC_PCT_H2  \n",
       "0        0.030202926  \n",
       "1        0.138508371  \n",
       "2  PrivacySuppressed  "
      ]
     },
     "execution_count": 6,
     "metadata": {},
     "output_type": "execute_result"
    }
   ],
   "source": [
    "data[['DEP_INC_PCT_M1', 'DEP_INC_PCT_M1', 'DEP_INC_PCT_M2', 'DEP_INC_PCT_H1', 'DEP_INC_PCT_H2']].head(3)"
   ]
  },
  {
   "cell_type": "code",
   "execution_count": 7,
   "metadata": {},
   "outputs": [
    {
     "name": "stdout",
     "output_type": "stream",
     "text": [
      "<class 'pandas.core.frame.DataFrame'>\n",
      "RangeIndex: 7804 entries, 0 to 7803\n",
      "Data columns (total 5 columns):\n",
      "DEP_INC_PCT_LO    7580 non-null object\n",
      "DEP_INC_PCT_M1    7580 non-null object\n",
      "DEP_INC_PCT_M2    7580 non-null object\n",
      "DEP_INC_PCT_H1    7580 non-null object\n",
      "DEP_INC_PCT_H2    7580 non-null object\n",
      "dtypes: object(5)\n",
      "memory usage: 305.0+ KB\n"
     ]
    }
   ],
   "source": [
    "data[['DEP_INC_PCT_LO', 'DEP_INC_PCT_M1', 'DEP_INC_PCT_M2', 'DEP_INC_PCT_H1', 'DEP_INC_PCT_H2']].info()"
   ]
  },
  {
   "cell_type": "code",
   "execution_count": 8,
   "metadata": {},
   "outputs": [
    {
     "name": "stdout",
     "output_type": "stream",
     "text": [
      "<class 'pandas.core.frame.DataFrame'>\n",
      "RangeIndex: 7804 entries, 0 to 7803\n",
      "Data columns (total 1 columns):\n",
      "TUITFTE    7362 non-null float64\n",
      "dtypes: float64(1)\n",
      "memory usage: 61.1 KB\n"
     ]
    }
   ],
   "source": [
    "data[['TUITFTE']].info()"
   ]
  },
  {
   "cell_type": "markdown",
   "metadata": {},
   "source": [
    "I'll be using `TUITFTE` instead of `TUITIONFEE_IN` and `TUITIONFEE_OUT` since it's a indicator of the intuition as well and it doesn't have many missing values."
   ]
  },
  {
   "cell_type": "markdown",
   "metadata": {},
   "source": [
    "I picked `ADM_RATE_ALL` and `SAT_AVG` because I think these 2 variables are good indicators of the quality of the school. Since they have too many missing values as well, alternatives are needed as well."
   ]
  },
  {
   "cell_type": "code",
   "execution_count": 9,
   "metadata": {},
   "outputs": [],
   "source": [
    "df = data[['TUITFTE','DEP_INC_PCT_LO', 'DEP_INC_PCT_M1', 'DEP_INC_PCT_M2', 'DEP_INC_PCT_H1', 'DEP_INC_PCT_H2','PAR_ED_PCT_1STGEN']]"
   ]
  },
  {
   "cell_type": "code",
   "execution_count": 10,
   "metadata": {},
   "outputs": [
    {
     "name": "stdout",
     "output_type": "stream",
     "text": [
      "<class 'pandas.core.frame.DataFrame'>\n",
      "RangeIndex: 7804 entries, 0 to 7803\n",
      "Data columns (total 7 columns):\n",
      "TUITFTE              7362 non-null float64\n",
      "DEP_INC_PCT_LO       7580 non-null object\n",
      "DEP_INC_PCT_M1       7580 non-null object\n",
      "DEP_INC_PCT_M2       7580 non-null object\n",
      "DEP_INC_PCT_H1       7580 non-null object\n",
      "DEP_INC_PCT_H2       7580 non-null object\n",
      "PAR_ED_PCT_1STGEN    7597 non-null object\n",
      "dtypes: float64(1), object(6)\n",
      "memory usage: 426.9+ KB\n"
     ]
    }
   ],
   "source": [
    "df.info()"
   ]
  },
  {
   "cell_type": "markdown",
   "metadata": {},
   "source": [
    "For these 3 income variables, I'll combine the 2 with same levels, for example, `DEP_INC_PCT_M1` and `DEP_INC_PCT_M2` are both for students with middle class income family. But first we need to convert them into float."
   ]
  },
  {
   "cell_type": "code",
   "execution_count": 11,
   "metadata": {},
   "outputs": [
    {
     "data": {
      "text/html": [
       "<div>\n",
       "<style scoped>\n",
       "    .dataframe tbody tr th:only-of-type {\n",
       "        vertical-align: middle;\n",
       "    }\n",
       "\n",
       "    .dataframe tbody tr th {\n",
       "        vertical-align: top;\n",
       "    }\n",
       "\n",
       "    .dataframe thead th {\n",
       "        text-align: right;\n",
       "    }\n",
       "</style>\n",
       "<table border=\"1\" class=\"dataframe\">\n",
       "  <thead>\n",
       "    <tr style=\"text-align: right;\">\n",
       "      <th></th>\n",
       "      <th>TUITFTE</th>\n",
       "      <th>DEP_INC_PCT_LO</th>\n",
       "      <th>DEP_INC_PCT_M1</th>\n",
       "      <th>DEP_INC_PCT_M2</th>\n",
       "      <th>DEP_INC_PCT_H1</th>\n",
       "      <th>DEP_INC_PCT_H2</th>\n",
       "      <th>PAR_ED_PCT_1STGEN</th>\n",
       "    </tr>\n",
       "  </thead>\n",
       "  <tbody>\n",
       "    <tr>\n",
       "      <td>0</td>\n",
       "      <td>9063.0</td>\n",
       "      <td>0.621047664</td>\n",
       "      <td>PrivacySuppressed</td>\n",
       "      <td>PrivacySuppressed</td>\n",
       "      <td>PrivacySuppressed</td>\n",
       "      <td>0.030202926</td>\n",
       "      <td>0.389901823</td>\n",
       "    </tr>\n",
       "    <tr>\n",
       "      <td>1</td>\n",
       "      <td>9033.0</td>\n",
       "      <td>0.362861492</td>\n",
       "      <td>0.17260274</td>\n",
       "      <td>0.165601218</td>\n",
       "      <td>0.16042618</td>\n",
       "      <td>0.138508371</td>\n",
       "      <td>0.345362017</td>\n",
       "    </tr>\n",
       "    <tr>\n",
       "      <td>2</td>\n",
       "      <td>12057.0</td>\n",
       "      <td>0.594594595</td>\n",
       "      <td>PrivacySuppressed</td>\n",
       "      <td>PrivacySuppressed</td>\n",
       "      <td>PrivacySuppressed</td>\n",
       "      <td>PrivacySuppressed</td>\n",
       "      <td>0.550314465</td>\n",
       "    </tr>\n",
       "  </tbody>\n",
       "</table>\n",
       "</div>"
      ],
      "text/plain": [
       "   TUITFTE DEP_INC_PCT_LO     DEP_INC_PCT_M1     DEP_INC_PCT_M2  \\\n",
       "0   9063.0    0.621047664  PrivacySuppressed  PrivacySuppressed   \n",
       "1   9033.0    0.362861492         0.17260274        0.165601218   \n",
       "2  12057.0    0.594594595  PrivacySuppressed  PrivacySuppressed   \n",
       "\n",
       "      DEP_INC_PCT_H1     DEP_INC_PCT_H2 PAR_ED_PCT_1STGEN  \n",
       "0  PrivacySuppressed        0.030202926       0.389901823  \n",
       "1         0.16042618        0.138508371       0.345362017  \n",
       "2  PrivacySuppressed  PrivacySuppressed       0.550314465  "
      ]
     },
     "execution_count": 11,
     "metadata": {},
     "output_type": "execute_result"
    }
   ],
   "source": [
    "df.head(3)"
   ]
  },
  {
   "cell_type": "code",
   "execution_count": 12,
   "metadata": {},
   "outputs": [],
   "source": [
    "df_new = df.loc[(df['DEP_INC_PCT_LO'] != 'PrivacySuppressed') & (df['DEP_INC_PCT_M1'] != 'PrivacySuppressed') &\n",
    "                (df['DEP_INC_PCT_M2'] != 'PrivacySuppressed') & (df['DEP_INC_PCT_H1'] != 'PrivacySuppressed') &\n",
    "                (df['DEP_INC_PCT_H2'] != 'PrivacySuppressed') & (df['PAR_ED_PCT_1STGEN'] != 'PrivacySuppressed')]"
   ]
  },
  {
   "cell_type": "code",
   "execution_count": 13,
   "metadata": {},
   "outputs": [
    {
     "name": "stderr",
     "output_type": "stream",
     "text": [
      "/Users/czc/opt/anaconda3/lib/python3.7/site-packages/pandas/core/frame.py:3494: SettingWithCopyWarning: \n",
      "A value is trying to be set on a copy of a slice from a DataFrame.\n",
      "Try using .loc[row_indexer,col_indexer] = value instead\n",
      "\n",
      "See the caveats in the documentation: http://pandas.pydata.org/pandas-docs/stable/user_guide/indexing.html#returning-a-view-versus-a-copy\n",
      "  self[k1] = value[k2]\n"
     ]
    }
   ],
   "source": [
    "df_new[['DEP_INC_PCT_LO', 'DEP_INC_PCT_M1', 'DEP_INC_PCT_M2', 'DEP_INC_PCT_H1', 'DEP_INC_PCT_H2','PAR_ED_PCT_1STGEN']] = df_new[['DEP_INC_PCT_LO', 'DEP_INC_PCT_M1', 'DEP_INC_PCT_M2', 'DEP_INC_PCT_H1', 'DEP_INC_PCT_H2','PAR_ED_PCT_1STGEN']].astype(float)"
   ]
  },
  {
   "cell_type": "code",
   "execution_count": 14,
   "metadata": {},
   "outputs": [
    {
     "name": "stdout",
     "output_type": "stream",
     "text": [
      "<class 'pandas.core.frame.DataFrame'>\n",
      "Int64Index: 2318 entries, 1 to 7803\n",
      "Data columns (total 7 columns):\n",
      "TUITFTE              2076 non-null float64\n",
      "DEP_INC_PCT_LO       2113 non-null float64\n",
      "DEP_INC_PCT_M1       2113 non-null float64\n",
      "DEP_INC_PCT_M2       2113 non-null float64\n",
      "DEP_INC_PCT_H1       2113 non-null float64\n",
      "DEP_INC_PCT_H2       2113 non-null float64\n",
      "PAR_ED_PCT_1STGEN    2114 non-null float64\n",
      "dtypes: float64(7)\n",
      "memory usage: 144.9 KB\n"
     ]
    }
   ],
   "source": [
    "df_new.info()"
   ]
  },
  {
   "cell_type": "code",
   "execution_count": 15,
   "metadata": {},
   "outputs": [
    {
     "name": "stderr",
     "output_type": "stream",
     "text": [
      "/Users/czc/opt/anaconda3/lib/python3.7/site-packages/ipykernel_launcher.py:1: SettingWithCopyWarning: \n",
      "A value is trying to be set on a copy of a slice from a DataFrame\n",
      "\n",
      "See the caveats in the documentation: http://pandas.pydata.org/pandas-docs/stable/user_guide/indexing.html#returning-a-view-versus-a-copy\n",
      "  \"\"\"Entry point for launching an IPython kernel.\n"
     ]
    }
   ],
   "source": [
    "df_new.dropna(axis=0, inplace=True)"
   ]
  },
  {
   "cell_type": "code",
   "execution_count": 16,
   "metadata": {},
   "outputs": [
    {
     "name": "stderr",
     "output_type": "stream",
     "text": [
      "/Users/czc/opt/anaconda3/lib/python3.7/site-packages/pandas/core/indexing.py:376: SettingWithCopyWarning: \n",
      "A value is trying to be set on a copy of a slice from a DataFrame.\n",
      "Try using .loc[row_indexer,col_indexer] = value instead\n",
      "\n",
      "See the caveats in the documentation: http://pandas.pydata.org/pandas-docs/stable/user_guide/indexing.html#returning-a-view-versus-a-copy\n",
      "  self.obj[key] = _infer_fill_value(value)\n",
      "/Users/czc/opt/anaconda3/lib/python3.7/site-packages/pandas/core/indexing.py:576: SettingWithCopyWarning: \n",
      "A value is trying to be set on a copy of a slice from a DataFrame.\n",
      "Try using .loc[row_indexer,col_indexer] = value instead\n",
      "\n",
      "See the caveats in the documentation: http://pandas.pydata.org/pandas-docs/stable/user_guide/indexing.html#returning-a-view-versus-a-copy\n",
      "  self.obj[item_labels[indexer[info_axis]]] = value\n"
     ]
    }
   ],
   "source": [
    "df_new.loc[:,'DEP_INC_PCT_MI'] = df_new.loc[:,'DEP_INC_PCT_M1'] + df_new.loc[:,'DEP_INC_PCT_M2']"
   ]
  },
  {
   "cell_type": "code",
   "execution_count": 17,
   "metadata": {},
   "outputs": [],
   "source": [
    "df_new.loc[:,'DEP_INC_PCT_HI'] = df_new.loc[:,'DEP_INC_PCT_H1'] + df_new.loc[:,'DEP_INC_PCT_H2']"
   ]
  },
  {
   "cell_type": "code",
   "execution_count": 18,
   "metadata": {},
   "outputs": [
    {
     "name": "stderr",
     "output_type": "stream",
     "text": [
      "/Users/czc/opt/anaconda3/lib/python3.7/site-packages/pandas/core/frame.py:4102: SettingWithCopyWarning: \n",
      "A value is trying to be set on a copy of a slice from a DataFrame\n",
      "\n",
      "See the caveats in the documentation: http://pandas.pydata.org/pandas-docs/stable/user_guide/indexing.html#returning-a-view-versus-a-copy\n",
      "  errors=errors,\n"
     ]
    }
   ],
   "source": [
    "df_new.drop(['DEP_INC_PCT_M1','DEP_INC_PCT_M2','DEP_INC_PCT_H1','DEP_INC_PCT_H2'],axis=1, inplace=True)"
   ]
  },
  {
   "cell_type": "code",
   "execution_count": 19,
   "metadata": {},
   "outputs": [
    {
     "data": {
      "text/html": [
       "<div>\n",
       "<style scoped>\n",
       "    .dataframe tbody tr th:only-of-type {\n",
       "        vertical-align: middle;\n",
       "    }\n",
       "\n",
       "    .dataframe tbody tr th {\n",
       "        vertical-align: top;\n",
       "    }\n",
       "\n",
       "    .dataframe thead th {\n",
       "        text-align: right;\n",
       "    }\n",
       "</style>\n",
       "<table border=\"1\" class=\"dataframe\">\n",
       "  <thead>\n",
       "    <tr style=\"text-align: right;\">\n",
       "      <th></th>\n",
       "      <th>TUITFTE</th>\n",
       "      <th>DEP_INC_PCT_LO</th>\n",
       "      <th>PAR_ED_PCT_1STGEN</th>\n",
       "      <th>DEP_INC_PCT_MI</th>\n",
       "      <th>DEP_INC_PCT_HI</th>\n",
       "    </tr>\n",
       "  </thead>\n",
       "  <tbody>\n",
       "    <tr>\n",
       "      <td>1</td>\n",
       "      <td>9033.0</td>\n",
       "      <td>0.362861</td>\n",
       "      <td>0.345362</td>\n",
       "      <td>0.338204</td>\n",
       "      <td>0.298935</td>\n",
       "    </tr>\n",
       "    <tr>\n",
       "      <td>3</td>\n",
       "      <td>8322.0</td>\n",
       "      <td>0.355848</td>\n",
       "      <td>0.337619</td>\n",
       "      <td>0.299835</td>\n",
       "      <td>0.344316</td>\n",
       "    </tr>\n",
       "    <tr>\n",
       "      <td>5</td>\n",
       "      <td>12198.0</td>\n",
       "      <td>0.237031</td>\n",
       "      <td>0.260525</td>\n",
       "      <td>0.282300</td>\n",
       "      <td>0.480669</td>\n",
       "    </tr>\n",
       "    <tr>\n",
       "      <td>7</td>\n",
       "      <td>5094.0</td>\n",
       "      <td>0.356481</td>\n",
       "      <td>0.479042</td>\n",
       "      <td>0.372685</td>\n",
       "      <td>0.270833</td>\n",
       "    </tr>\n",
       "    <tr>\n",
       "      <td>10</td>\n",
       "      <td>11928.0</td>\n",
       "      <td>0.204878</td>\n",
       "      <td>0.184915</td>\n",
       "      <td>0.300000</td>\n",
       "      <td>0.495122</td>\n",
       "    </tr>\n",
       "  </tbody>\n",
       "</table>\n",
       "</div>"
      ],
      "text/plain": [
       "    TUITFTE  DEP_INC_PCT_LO  PAR_ED_PCT_1STGEN  DEP_INC_PCT_MI  DEP_INC_PCT_HI\n",
       "1    9033.0        0.362861           0.345362        0.338204        0.298935\n",
       "3    8322.0        0.355848           0.337619        0.299835        0.344316\n",
       "5   12198.0        0.237031           0.260525        0.282300        0.480669\n",
       "7    5094.0        0.356481           0.479042        0.372685        0.270833\n",
       "10  11928.0        0.204878           0.184915        0.300000        0.495122"
      ]
     },
     "execution_count": 19,
     "metadata": {},
     "output_type": "execute_result"
    }
   ],
   "source": [
    "df_new.head()"
   ]
  },
  {
   "cell_type": "markdown",
   "metadata": {},
   "source": [
    "I plan to build a k means clustering model, TUIFTE is a not in the same scale as other variables."
   ]
  },
  {
   "cell_type": "code",
   "execution_count": 20,
   "metadata": {},
   "outputs": [],
   "source": [
    "scaler = MinMaxScaler()"
   ]
  },
  {
   "cell_type": "code",
   "execution_count": 21,
   "metadata": {},
   "outputs": [
    {
     "data": {
      "text/plain": [
       "array([[0.05803666],\n",
       "       [0.05346851],\n",
       "       [0.07837166],\n",
       "       ...,\n",
       "       [0.01876731],\n",
       "       [0.09688839],\n",
       "       [0.07579525]])"
      ]
     },
     "execution_count": 21,
     "metadata": {},
     "output_type": "execute_result"
    }
   ],
   "source": [
    "scaler.fit_transform(df_new[['TUITFTE']])"
   ]
  },
  {
   "cell_type": "code",
   "execution_count": 22,
   "metadata": {},
   "outputs": [
    {
     "name": "stderr",
     "output_type": "stream",
     "text": [
      "/Users/czc/opt/anaconda3/lib/python3.7/site-packages/pandas/core/indexing.py:376: SettingWithCopyWarning: \n",
      "A value is trying to be set on a copy of a slice from a DataFrame.\n",
      "Try using .loc[row_indexer,col_indexer] = value instead\n",
      "\n",
      "See the caveats in the documentation: http://pandas.pydata.org/pandas-docs/stable/user_guide/indexing.html#returning-a-view-versus-a-copy\n",
      "  self.obj[key] = _infer_fill_value(value)\n",
      "/Users/czc/opt/anaconda3/lib/python3.7/site-packages/pandas/core/indexing.py:576: SettingWithCopyWarning: \n",
      "A value is trying to be set on a copy of a slice from a DataFrame.\n",
      "Try using .loc[row_indexer,col_indexer] = value instead\n",
      "\n",
      "See the caveats in the documentation: http://pandas.pydata.org/pandas-docs/stable/user_guide/indexing.html#returning-a-view-versus-a-copy\n",
      "  self.obj[item_labels[indexer[info_axis]]] = value\n"
     ]
    }
   ],
   "source": [
    "df_new.loc[:,'TUITFTE_norm'] = scaler.fit_transform(df_new[['TUITFTE']])"
   ]
  },
  {
   "cell_type": "code",
   "execution_count": 23,
   "metadata": {},
   "outputs": [
    {
     "data": {
      "text/plain": [
       "count    1873.000000\n",
       "mean        0.073086\n",
       "std         0.049331\n",
       "min         0.000000\n",
       "25%         0.039070\n",
       "50%         0.070469\n",
       "75%         0.097916\n",
       "max         1.000000\n",
       "Name: TUITFTE_norm, dtype: float64"
      ]
     },
     "execution_count": 23,
     "metadata": {},
     "output_type": "execute_result"
    }
   ],
   "source": [
    "df_new['TUITFTE_norm'].describe()"
   ]
  },
  {
   "cell_type": "code",
   "execution_count": 24,
   "metadata": {},
   "outputs": [
    {
     "data": {
      "text/html": [
       "<div>\n",
       "<style scoped>\n",
       "    .dataframe tbody tr th:only-of-type {\n",
       "        vertical-align: middle;\n",
       "    }\n",
       "\n",
       "    .dataframe tbody tr th {\n",
       "        vertical-align: top;\n",
       "    }\n",
       "\n",
       "    .dataframe thead th {\n",
       "        text-align: right;\n",
       "    }\n",
       "</style>\n",
       "<table border=\"1\" class=\"dataframe\">\n",
       "  <thead>\n",
       "    <tr style=\"text-align: right;\">\n",
       "      <th></th>\n",
       "      <th>TUITFTE</th>\n",
       "      <th>DEP_INC_PCT_LO</th>\n",
       "      <th>PAR_ED_PCT_1STGEN</th>\n",
       "      <th>DEP_INC_PCT_MI</th>\n",
       "      <th>DEP_INC_PCT_HI</th>\n",
       "      <th>TUITFTE_norm</th>\n",
       "    </tr>\n",
       "  </thead>\n",
       "  <tbody>\n",
       "    <tr>\n",
       "      <td>1</td>\n",
       "      <td>9033.0</td>\n",
       "      <td>0.362861</td>\n",
       "      <td>0.345362</td>\n",
       "      <td>0.338204</td>\n",
       "      <td>0.298935</td>\n",
       "      <td>0.058037</td>\n",
       "    </tr>\n",
       "    <tr>\n",
       "      <td>3</td>\n",
       "      <td>8322.0</td>\n",
       "      <td>0.355848</td>\n",
       "      <td>0.337619</td>\n",
       "      <td>0.299835</td>\n",
       "      <td>0.344316</td>\n",
       "      <td>0.053469</td>\n",
       "    </tr>\n",
       "    <tr>\n",
       "      <td>5</td>\n",
       "      <td>12198.0</td>\n",
       "      <td>0.237031</td>\n",
       "      <td>0.260525</td>\n",
       "      <td>0.282300</td>\n",
       "      <td>0.480669</td>\n",
       "      <td>0.078372</td>\n",
       "    </tr>\n",
       "    <tr>\n",
       "      <td>7</td>\n",
       "      <td>5094.0</td>\n",
       "      <td>0.356481</td>\n",
       "      <td>0.479042</td>\n",
       "      <td>0.372685</td>\n",
       "      <td>0.270833</td>\n",
       "      <td>0.032729</td>\n",
       "    </tr>\n",
       "    <tr>\n",
       "      <td>10</td>\n",
       "      <td>11928.0</td>\n",
       "      <td>0.204878</td>\n",
       "      <td>0.184915</td>\n",
       "      <td>0.300000</td>\n",
       "      <td>0.495122</td>\n",
       "      <td>0.076637</td>\n",
       "    </tr>\n",
       "    <tr>\n",
       "      <td>...</td>\n",
       "      <td>...</td>\n",
       "      <td>...</td>\n",
       "      <td>...</td>\n",
       "      <td>...</td>\n",
       "      <td>...</td>\n",
       "      <td>...</td>\n",
       "    </tr>\n",
       "    <tr>\n",
       "      <td>7369</td>\n",
       "      <td>15898.0</td>\n",
       "      <td>0.525548</td>\n",
       "      <td>0.502429</td>\n",
       "      <td>0.310517</td>\n",
       "      <td>0.163934</td>\n",
       "      <td>0.102144</td>\n",
       "    </tr>\n",
       "    <tr>\n",
       "      <td>7370</td>\n",
       "      <td>4149.0</td>\n",
       "      <td>0.313681</td>\n",
       "      <td>0.384902</td>\n",
       "      <td>0.370383</td>\n",
       "      <td>0.315935</td>\n",
       "      <td>0.026657</td>\n",
       "    </tr>\n",
       "    <tr>\n",
       "      <td>7373</td>\n",
       "      <td>2921.0</td>\n",
       "      <td>0.566412</td>\n",
       "      <td>0.446187</td>\n",
       "      <td>0.295748</td>\n",
       "      <td>0.137840</td>\n",
       "      <td>0.018767</td>\n",
       "    </tr>\n",
       "    <tr>\n",
       "      <td>7374</td>\n",
       "      <td>15080.0</td>\n",
       "      <td>0.589605</td>\n",
       "      <td>0.519427</td>\n",
       "      <td>0.287546</td>\n",
       "      <td>0.122848</td>\n",
       "      <td>0.096888</td>\n",
       "    </tr>\n",
       "    <tr>\n",
       "      <td>7381</td>\n",
       "      <td>11797.0</td>\n",
       "      <td>0.317237</td>\n",
       "      <td>0.385883</td>\n",
       "      <td>0.334163</td>\n",
       "      <td>0.348600</td>\n",
       "      <td>0.075795</td>\n",
       "    </tr>\n",
       "  </tbody>\n",
       "</table>\n",
       "<p>1873 rows × 6 columns</p>\n",
       "</div>"
      ],
      "text/plain": [
       "      TUITFTE  DEP_INC_PCT_LO  PAR_ED_PCT_1STGEN  DEP_INC_PCT_MI  \\\n",
       "1      9033.0        0.362861           0.345362        0.338204   \n",
       "3      8322.0        0.355848           0.337619        0.299835   \n",
       "5     12198.0        0.237031           0.260525        0.282300   \n",
       "7      5094.0        0.356481           0.479042        0.372685   \n",
       "10    11928.0        0.204878           0.184915        0.300000   \n",
       "...       ...             ...                ...             ...   \n",
       "7369  15898.0        0.525548           0.502429        0.310517   \n",
       "7370   4149.0        0.313681           0.384902        0.370383   \n",
       "7373   2921.0        0.566412           0.446187        0.295748   \n",
       "7374  15080.0        0.589605           0.519427        0.287546   \n",
       "7381  11797.0        0.317237           0.385883        0.334163   \n",
       "\n",
       "      DEP_INC_PCT_HI  TUITFTE_norm  \n",
       "1           0.298935      0.058037  \n",
       "3           0.344316      0.053469  \n",
       "5           0.480669      0.078372  \n",
       "7           0.270833      0.032729  \n",
       "10          0.495122      0.076637  \n",
       "...              ...           ...  \n",
       "7369        0.163934      0.102144  \n",
       "7370        0.315935      0.026657  \n",
       "7373        0.137840      0.018767  \n",
       "7374        0.122848      0.096888  \n",
       "7381        0.348600      0.075795  \n",
       "\n",
       "[1873 rows x 6 columns]"
      ]
     },
     "execution_count": 24,
     "metadata": {},
     "output_type": "execute_result"
    }
   ],
   "source": [
    "df_new"
   ]
  },
  {
   "cell_type": "markdown",
   "metadata": {},
   "source": [
    "#### Building Model"
   ]
  },
  {
   "cell_type": "code",
   "execution_count": 25,
   "metadata": {},
   "outputs": [],
   "source": [
    "df_new.to_csv('ICE7_2.csv')"
   ]
  },
  {
   "cell_type": "code",
   "execution_count": 114,
   "metadata": {},
   "outputs": [],
   "source": [
    "k_range = range(1,10)\n",
    "\n",
    "sse = []\n",
    "for k in k_range:\n",
    "    km = KMeans(n_clusters=k)\n",
    "    km.fit(df_new.drop(['TUITFTE'],axis=1))\n",
    "    sse.append(km.inertia_)"
   ]
  },
  {
   "cell_type": "code",
   "execution_count": 115,
   "metadata": {},
   "outputs": [
    {
     "data": {
      "text/plain": [
       "[99.00698456497817,\n",
       " 34.674233056198204,\n",
       " 24.795605163006424,\n",
       " 18.296190339660974,\n",
       " 15.501532389456578,\n",
       " 14.331368251590746,\n",
       " 13.293594751072304,\n",
       " 12.389557637388112,\n",
       " 11.617359352794]"
      ]
     },
     "execution_count": 115,
     "metadata": {},
     "output_type": "execute_result"
    }
   ],
   "source": [
    "sse"
   ]
  },
  {
   "cell_type": "code",
   "execution_count": 117,
   "metadata": {},
   "outputs": [
    {
     "data": {
      "image/png": "[encoded data removed]",
      "text/plain": [
       "<Figure size 432x288 with 1 Axes>"
      ]
     },
     "metadata": {
      "needs_background": "light"
     },
     "output_type": "display_data"
    }
   ],
   "source": [
    "plt.xlabel('K')\n",
    "plt.ylabel('Sum of Squared Error')\n",
    "plt.plot(k_range, sse);"
   ]
  },
  {
   "cell_type": "markdown",
   "metadata": {},
   "source": [
    "I think both 2 and 3 can be the elbow point. Let's validate both of them"
   ]
  },
  {
   "cell_type": "code",
   "execution_count": 118,
   "metadata": {},
   "outputs": [
    {
     "name": "stderr",
     "output_type": "stream",
     "text": [
      "/Users/czc/opt/anaconda3/lib/python3.7/site-packages/ipykernel_launcher.py:8: SettingWithCopyWarning: \n",
      "A value is trying to be set on a copy of a slice from a DataFrame.\n",
      "Try using .loc[row_indexer,col_indexer] = value instead\n",
      "\n",
      "See the caveats in the documentation: http://pandas.pydata.org/pandas-docs/stable/user_guide/indexing.html#returning-a-view-versus-a-copy\n",
      "  \n",
      "/Users/czc/opt/anaconda3/lib/python3.7/site-packages/ipykernel_launcher.py:9: SettingWithCopyWarning: \n",
      "A value is trying to be set on a copy of a slice from a DataFrame.\n",
      "Try using .loc[row_indexer,col_indexer] = value instead\n",
      "\n",
      "See the caveats in the documentation: http://pandas.pydata.org/pandas-docs/stable/user_guide/indexing.html#returning-a-view-versus-a-copy\n",
      "  if __name__ == '__main__':\n"
     ]
    }
   ],
   "source": [
    "km_2 = KMeans(n_clusters=2)\n",
    "labels_2 = km_2.fit_predict(df_new.drop(['TUITFTE'],axis=1))\n",
    "\n",
    "km_3 = KMeans(n_clusters=3)\n",
    "labels_3 = km_3.fit_predict(df_new.drop(['TUITFTE'],axis=1))\n",
    "\n",
    "\n",
    "df_new['label_2'] = labels_2\n",
    "df_new['label_3'] = labels_3"
   ]
  },
  {
   "cell_type": "code",
   "execution_count": 124,
   "metadata": {},
   "outputs": [
    {
     "data": {
      "text/html": [
       "<div>\n",
       "<style scoped>\n",
       "    .dataframe tbody tr th:only-of-type {\n",
       "        vertical-align: middle;\n",
       "    }\n",
       "\n",
       "    .dataframe tbody tr th {\n",
       "        vertical-align: top;\n",
       "    }\n",
       "\n",
       "    .dataframe thead th {\n",
       "        text-align: right;\n",
       "    }\n",
       "</style>\n",
       "<table border=\"1\" class=\"dataframe\">\n",
       "  <thead>\n",
       "    <tr style=\"text-align: right;\">\n",
       "      <th></th>\n",
       "      <th>TUITFTE</th>\n",
       "      <th>DEP_INC_PCT_LO</th>\n",
       "      <th>DEP_INC_PCT_MI</th>\n",
       "      <th>DEP_INC_PCT_HI</th>\n",
       "      <th>PAR_ED_PCT_1STGEN</th>\n",
       "    </tr>\n",
       "    <tr>\n",
       "      <th>label_3</th>\n",
       "      <th></th>\n",
       "      <th></th>\n",
       "      <th></th>\n",
       "      <th></th>\n",
       "      <th></th>\n",
       "    </tr>\n",
       "  </thead>\n",
       "  <tbody>\n",
       "    <tr>\n",
       "      <td>0</td>\n",
       "      <td>12766.720403</td>\n",
       "      <td>0.248887</td>\n",
       "      <td>0.332350</td>\n",
       "      <td>0.418763</td>\n",
       "      <td>0.342013</td>\n",
       "    </tr>\n",
       "    <tr>\n",
       "      <td>1</td>\n",
       "      <td>8713.582150</td>\n",
       "      <td>0.427655</td>\n",
       "      <td>0.346798</td>\n",
       "      <td>0.225546</td>\n",
       "      <td>0.462715</td>\n",
       "    </tr>\n",
       "    <tr>\n",
       "      <td>2</td>\n",
       "      <td>12148.290946</td>\n",
       "      <td>0.600246</td>\n",
       "      <td>0.283525</td>\n",
       "      <td>0.116229</td>\n",
       "      <td>0.526118</td>\n",
       "    </tr>\n",
       "  </tbody>\n",
       "</table>\n",
       "</div>"
      ],
      "text/plain": [
       "              TUITFTE  DEP_INC_PCT_LO  DEP_INC_PCT_MI  DEP_INC_PCT_HI  \\\n",
       "label_3                                                                 \n",
       "0        12766.720403        0.248887        0.332350        0.418763   \n",
       "1         8713.582150        0.427655        0.346798        0.225546   \n",
       "2        12148.290946        0.600246        0.283525        0.116229   \n",
       "\n",
       "         PAR_ED_PCT_1STGEN  \n",
       "label_3                     \n",
       "0                 0.342013  \n",
       "1                 0.462715  \n",
       "2                 0.526118  "
      ]
     },
     "execution_count": 124,
     "metadata": {},
     "output_type": "execute_result"
    }
   ],
   "source": [
    "df_new.groupby(['label_3'])[['TUITFTE','DEP_INC_PCT_LO','DEP_INC_PCT_MI','DEP_INC_PCT_HI','PAR_ED_PCT_1STGEN']].mean()"
   ]
  },
  {
   "cell_type": "code",
   "execution_count": 125,
   "metadata": {},
   "outputs": [
    {
     "data": {
      "text/html": [
       "<div>\n",
       "<style scoped>\n",
       "    .dataframe tbody tr th:only-of-type {\n",
       "        vertical-align: middle;\n",
       "    }\n",
       "\n",
       "    .dataframe tbody tr th {\n",
       "        vertical-align: top;\n",
       "    }\n",
       "\n",
       "    .dataframe thead th {\n",
       "        text-align: right;\n",
       "    }\n",
       "</style>\n",
       "<table border=\"1\" class=\"dataframe\">\n",
       "  <thead>\n",
       "    <tr style=\"text-align: right;\">\n",
       "      <th></th>\n",
       "      <th>TUITFTE</th>\n",
       "      <th>DEP_INC_PCT_LO</th>\n",
       "      <th>DEP_INC_PCT_MI</th>\n",
       "      <th>DEP_INC_PCT_HI</th>\n",
       "      <th>PAR_ED_PCT_1STGEN</th>\n",
       "    </tr>\n",
       "    <tr>\n",
       "      <th>label_2</th>\n",
       "      <th></th>\n",
       "      <th></th>\n",
       "      <th></th>\n",
       "      <th></th>\n",
       "      <th></th>\n",
       "    </tr>\n",
       "  </thead>\n",
       "  <tbody>\n",
       "    <tr>\n",
       "      <td>0</td>\n",
       "      <td>11267.521293</td>\n",
       "      <td>0.570943</td>\n",
       "      <td>0.296436</td>\n",
       "      <td>0.132621</td>\n",
       "      <td>0.516532</td>\n",
       "    </tr>\n",
       "    <tr>\n",
       "      <td>1</td>\n",
       "      <td>11601.218182</td>\n",
       "      <td>0.290460</td>\n",
       "      <td>0.340065</td>\n",
       "      <td>0.369476</td>\n",
       "      <td>0.373734</td>\n",
       "    </tr>\n",
       "  </tbody>\n",
       "</table>\n",
       "</div>"
      ],
      "text/plain": [
       "              TUITFTE  DEP_INC_PCT_LO  DEP_INC_PCT_MI  DEP_INC_PCT_HI  \\\n",
       "label_2                                                                 \n",
       "0        11267.521293        0.570943        0.296436        0.132621   \n",
       "1        11601.218182        0.290460        0.340065        0.369476   \n",
       "\n",
       "         PAR_ED_PCT_1STGEN  \n",
       "label_2                     \n",
       "0                 0.516532  \n",
       "1                 0.373734  "
      ]
     },
     "execution_count": 125,
     "metadata": {},
     "output_type": "execute_result"
    }
   ],
   "source": [
    "df_new.groupby(['label_2'])[['TUITFTE','DEP_INC_PCT_LO','DEP_INC_PCT_MI','DEP_INC_PCT_HI','PAR_ED_PCT_1STGEN']].mean()"
   ]
  },
  {
   "cell_type": "markdown",
   "metadata": {},
   "source": [
    "## Conclusion\n",
    "We can clearly notice that these 3 clusters of students have very large differences schools characteristics, especially for the 3 clusters model result. The difference in percentage of low income and high income is larger, which means students background vary a lot in these criteara among different shools. \n",
    "These results indicate that students who come from a relatively lower income family will get into a school different from students who come from a relatively higher income family, also first generation college students tend to be a school that non_first_generation students won't tend to go to.\n"
   ]
  }
 ],
 "metadata": {
  "kernelspec": {
   "display_name": "Python 3",
   "language": "python",
   "name": "python3"
  },
  "language_info": {
   "codemirror_mode": {
    "name": "ipython",
    "version": 3
   },
   "file_extension": ".py",
   "mimetype": "text/x-python",
   "name": "python",
   "nbconvert_exporter": "python",
   "pygments_lexer": "ipython3",
   "version": "3.7.4"
  }
 },
 "nbformat": 4,
 "nbformat_minor": 4
}
