{
 "cells": [
  {
   "cell_type": "markdown",
   "metadata": {},
   "source": [
    "# Diagnostic Metrics\n",
    "**Course:** HUDK 4050, Week 10  \n",
    "**Author:** Zecheng Chang  \n",
    "**Asignment:** ICE7  \n",
    "**Objectives:**  \n",
    "At the end of this ICE, I'll be able to:\n",
    "1. identify the correct model diagnostic metric(s) for performance\n",
    "2. implement at least one model diagnostic metric for a model you have built for ACA2 or ACA3"
   ]
  },
  {
   "cell_type": "markdown",
   "metadata": {},
   "source": [
    "## ACA2"
   ]
  },
  {
   "cell_type": "code",
   "execution_count": 69,
   "metadata": {},
   "outputs": [],
   "source": [
    "import pandas as pd\n",
    "import numpy as np\n",
    "import matplotlib.pyplot as plt\n",
    "import seaborn as sns\n",
    "from sklearn.cluster import KMeans\n",
    "from sklearn.ensemble import RandomForestClassifier\n",
    "from sklearn.linear_model import LogisticRegression\n",
    "from sklearn.preprocessing import OneHotEncoder, MinMaxScaler\n",
    "from sklearn.model_selection import train_test_split,GridSearchCV\n",
    "from sklearn.compose import make_column_transformer\n",
    "from sklearn.pipeline import Pipeline\n",
    "from sklearn.metrics import accuracy_score, confusion_matrix, precision_score, recall_score, roc_auc_score, roc_curve, f1_score\n",
    "%matplotlib inline"
   ]
  },
  {
   "cell_type": "code",
   "execution_count": 55,
   "metadata": {},
   "outputs": [],
   "source": [
    "df_rf = pd.read_csv(\"ICE7.csv\",index_col=0).reset_index(drop=True)\n",
    "\n",
    "df_rf['ONTASK'] =df_rf.apply(lambda x: 1 if x['ONTASK'] == 'Y' else 0,axis=1)"
   ]
  },
  {
   "cell_type": "code",
   "execution_count": 56,
   "metadata": {},
   "outputs": [
    {
     "data": {
      "text/html": [
       "<div>\n",
       "<style scoped>\n",
       "    .dataframe tbody tr th:only-of-type {\n",
       "        vertical-align: middle;\n",
       "    }\n",
       "\n",
       "    .dataframe tbody tr th {\n",
       "        vertical-align: top;\n",
       "    }\n",
       "\n",
       "    .dataframe thead th {\n",
       "        text-align: right;\n",
       "    }\n",
       "</style>\n",
       "<table border=\"1\" class=\"dataframe\">\n",
       "  <thead>\n",
       "    <tr style=\"text-align: right;\">\n",
       "      <th></th>\n",
       "      <th>GRADE</th>\n",
       "      <th>Gender</th>\n",
       "      <th>OBSNUM</th>\n",
       "      <th>Activity</th>\n",
       "      <th>ONTASK</th>\n",
       "      <th>TRANSITIONS</th>\n",
       "      <th>FORMATchanges</th>\n",
       "      <th>Obsv/act</th>\n",
       "      <th>Transitions/Durations</th>\n",
       "      <th>Total Time</th>\n",
       "    </tr>\n",
       "  </thead>\n",
       "  <tbody>\n",
       "    <tr>\n",
       "      <td>0</td>\n",
       "      <td>2</td>\n",
       "      <td>1</td>\n",
       "      <td>12</td>\n",
       "      <td>Wholecarpet</td>\n",
       "      <td>1</td>\n",
       "      <td>1</td>\n",
       "      <td>1</td>\n",
       "      <td>1390.500000</td>\n",
       "      <td>0.000664</td>\n",
       "      <td>1027</td>\n",
       "    </tr>\n",
       "    <tr>\n",
       "      <td>1</td>\n",
       "      <td>3</td>\n",
       "      <td>1</td>\n",
       "      <td>11</td>\n",
       "      <td>Individual</td>\n",
       "      <td>1</td>\n",
       "      <td>2</td>\n",
       "      <td>2</td>\n",
       "      <td>890.333333</td>\n",
       "      <td>0.002545</td>\n",
       "      <td>213</td>\n",
       "    </tr>\n",
       "    <tr>\n",
       "      <td>2</td>\n",
       "      <td>0</td>\n",
       "      <td>0</td>\n",
       "      <td>21</td>\n",
       "      <td>Smallgroup</td>\n",
       "      <td>1</td>\n",
       "      <td>3</td>\n",
       "      <td>1</td>\n",
       "      <td>770.500000</td>\n",
       "      <td>0.001439</td>\n",
       "      <td>2078</td>\n",
       "    </tr>\n",
       "  </tbody>\n",
       "</table>\n",
       "</div>"
      ],
      "text/plain": [
       "   GRADE  Gender  OBSNUM     Activity  ONTASK  TRANSITIONS  FORMATchanges  \\\n",
       "0      2       1      12  Wholecarpet       1            1              1   \n",
       "1      3       1      11   Individual       1            2              2   \n",
       "2      0       0      21   Smallgroup       1            3              1   \n",
       "\n",
       "      Obsv/act  Transitions/Durations  Total Time  \n",
       "0  1390.500000               0.000664        1027  \n",
       "1   890.333333               0.002545         213  \n",
       "2   770.500000               0.001439        2078  "
      ]
     },
     "execution_count": 56,
     "metadata": {},
     "output_type": "execute_result"
    }
   ],
   "source": [
    "df_rf.head(3)"
   ]
  },
  {
   "cell_type": "code",
   "execution_count": 57,
   "metadata": {},
   "outputs": [],
   "source": [
    "X_rf = df_rf.drop('ONTASK', axis=1)\n",
    "y_rf = df_rf['ONTASK']"
   ]
  },
  {
   "cell_type": "code",
   "execution_count": 58,
   "metadata": {},
   "outputs": [],
   "source": [
    "# split train, test datasets\n",
    "X_train_rf, X_test_rf, y_train_rf, y_test_rf = train_test_split(X_rf, y_rf, test_size=0.1,random_state=33)"
   ]
  },
  {
   "cell_type": "code",
   "execution_count": 59,
   "metadata": {},
   "outputs": [],
   "source": [
    "cat_trans = make_column_transformer(\n",
    "            (OneHotEncoder(), ['Activity']),\n",
    "            remainder=\"passthrough\")"
   ]
  },
  {
   "cell_type": "code",
   "execution_count": 60,
   "metadata": {},
   "outputs": [],
   "source": [
    "# one_hot = OneHotEncoder()\n",
    "# norm_num = MinMaxScaler()\n",
    "rf = RandomForestClassifier(random_state=33)\n",
    "\n",
    "pipe = Pipeline(steps=[('cat_trans',cat_trans),('rf',rf)])\n",
    "\n",
    "#pipe.get_params()"
   ]
  },
  {
   "cell_type": "code",
   "execution_count": 61,
   "metadata": {},
   "outputs": [],
   "source": [
    "gird_params_rf = [{\n",
    "    'rf__max_depth':[10],\n",
    "    'rf__min_samples_leaf':[2],\n",
    "    'rf__min_samples_split':[10],\n",
    "    'rf__n_estimators':[200]}\n",
    "]"
   ]
  },
  {
   "cell_type": "code",
   "execution_count": 62,
   "metadata": {},
   "outputs": [
    {
     "name": "stdout",
     "output_type": "stream",
     "text": [
      "Fitting 10 folds for each of 1 candidates, totalling 10 fits\n"
     ]
    },
    {
     "data": {
      "text/plain": [
       "GridSearchCV(cv=10,\n",
       "             estimator=Pipeline(steps=[('cat_trans',\n",
       "                                        ColumnTransformer(remainder='passthrough',\n",
       "                                                          transformers=[('onehotencoder',\n",
       "                                                                         OneHotEncoder(),\n",
       "                                                                         ['Activity'])])),\n",
       "                                       ('rf',\n",
       "                                        RandomForestClassifier(random_state=33))]),\n",
       "             n_jobs=-1,\n",
       "             param_grid=[{'rf__max_depth': [10], 'rf__min_samples_leaf': [2],\n",
       "                          'rf__min_samples_split': [10],\n",
       "                          'rf__n_estimators': [200]}],\n",
       "             verbose=2)"
      ]
     },
     "execution_count": 62,
     "metadata": {},
     "output_type": "execute_result"
    }
   ],
   "source": [
    "search = GridSearchCV(pipe, gird_params_rf, n_jobs=-1,cv=10,verbose=2)\n",
    "search.fit(X_train_rf,y_train_rf)"
   ]
  },
  {
   "cell_type": "code",
   "execution_count": 63,
   "metadata": {},
   "outputs": [
    {
     "name": "stdout",
     "output_type": "stream",
     "text": [
      "The accuracy of the model is 69.8 %\n"
     ]
    }
   ],
   "source": [
    "y_preds_rf = search.predict(X_test_rf)\n",
    "\n",
    "rf_accuracy_score = accuracy_score(y_test_rf, y_preds_rf)\n",
    "print(f\"The accuracy of the model is {round(rf_accuracy_score,3)*100} %\")"
   ]
  },
  {
   "cell_type": "markdown",
   "metadata": {},
   "source": [
    "Firstly, I used accuracy score\n",
    "Then I plan to use roc-auc score and confusion matrix"
   ]
  },
  {
   "cell_type": "code",
   "execution_count": 34,
   "metadata": {},
   "outputs": [],
   "source": [
    "y_preds_rf[y_preds_rf=='Y'] = 1\n",
    "y_preds_rf[y_preds_rf=='N'] = 0\n",
    "\n",
    "y_test_rf[y_test_rf=='Y'] = 1\n",
    "y_test_rf[y_test_rf=='N'] = 0"
   ]
  },
  {
   "cell_type": "code",
   "execution_count": 42,
   "metadata": {},
   "outputs": [],
   "source": [
    "y_test_rf = np.array(y_test_rf)"
   ]
  },
  {
   "cell_type": "code",
   "execution_count": 41,
   "metadata": {},
   "outputs": [
    {
     "data": {
      "text/plain": [
       "numpy.ndarray"
      ]
     },
     "execution_count": 41,
     "metadata": {},
     "output_type": "execute_result"
    }
   ],
   "source": [
    "type(y_preds_rf)"
   ]
  },
  {
   "cell_type": "code",
   "execution_count": 65,
   "metadata": {},
   "outputs": [
    {
     "data": {
      "text/plain": [
       "0.5346058652671689"
      ]
     },
     "execution_count": 65,
     "metadata": {},
     "output_type": "execute_result"
    }
   ],
   "source": [
    "roc_auc_score(y_test_rf, y_preds_rf)"
   ]
  },
  {
   "cell_type": "code",
   "execution_count": 66,
   "metadata": {},
   "outputs": [
    {
     "data": {
      "text/plain": [
       "array([[  57,  499],\n",
       "       [  41, 1190]])"
      ]
     },
     "execution_count": 66,
     "metadata": {},
     "output_type": "execute_result"
    }
   ],
   "source": [
    "confusion_matrix(y_test_rf, y_preds_rf)"
   ]
  },
  {
   "cell_type": "markdown",
   "metadata": {},
   "source": [
    "As we can see, there are 499 yes have been incorrectly classified as no  \n",
    "Also, 41 no have been incorrectly classified as yes"
   ]
  },
  {
   "cell_type": "markdown",
   "metadata": {},
   "source": [
    "roc_auc score is slightly higher than 0.5, which is not good"
   ]
  },
  {
   "cell_type": "markdown",
   "metadata": {},
   "source": [
    "## ACA3"
   ]
  },
  {
   "cell_type": "markdown",
   "metadata": {},
   "source": [
    "same as above, I'll be using confusion matrix and roc_auc socre"
   ]
  },
  {
   "cell_type": "code",
   "execution_count": 73,
   "metadata": {},
   "outputs": [],
   "source": [
    "df_new = pd.read_csv('ICE7_2.csv', index_col=0)"
   ]
  },
  {
   "cell_type": "code",
   "execution_count": 74,
   "metadata": {},
   "outputs": [],
   "source": [
    "k_range = range(1,10)\n",
    "\n",
    "sse = []\n",
    "for k in k_range:\n",
    "    km = KMeans(n_clusters=k)\n",
    "    km.fit(df_new.drop(['TUITFTE'],axis=1))\n",
    "    sse.append(km.inertia_)"
   ]
  },
  {
   "cell_type": "code",
   "execution_count": 75,
   "metadata": {},
   "outputs": [
    {
     "data": {
      "text/plain": [
       "[99.00698456497817,\n",
       " 34.674233056198204,\n",
       " 24.79560516300642,\n",
       " 18.2956116955555,\n",
       " 15.50153238945658,\n",
       " 14.298135587903325,\n",
       " 13.284174274106002,\n",
       " 12.425242159996266,\n",
       " 11.767221185199132]"
      ]
     },
     "execution_count": 75,
     "metadata": {},
     "output_type": "execute_result"
    }
   ],
   "source": [
    "sse"
   ]
  },
  {
   "cell_type": "code",
   "execution_count": 76,
   "metadata": {},
   "outputs": [
    {
     "data": {
      "image/png": "[encoded data removed]",
      "text/plain": [
       "<Figure size 432x288 with 1 Axes>"
      ]
     },
     "metadata": {
      "needs_background": "light"
     },
     "output_type": "display_data"
    }
   ],
   "source": [
    "plt.xlabel('K')\n",
    "plt.ylabel('Sum of Squared Error')\n",
    "plt.plot(k_range, sse);"
   ]
  },
  {
   "cell_type": "markdown",
   "metadata": {},
   "source": [
    "For this one, I used elbow method"
   ]
  }
 ],
 "metadata": {
  "kernelspec": {
   "display_name": "Python 3",
   "language": "python",
   "name": "python3"
  },
  "language_info": {
   "codemirror_mode": {
    "name": "ipython",
    "version": 3
   },
   "file_extension": ".py",
   "mimetype": "text/x-python",
   "name": "python",
   "nbconvert_exporter": "python",
   "pygments_lexer": "ipython3",
   "version": "3.7.4"
  }
 },
 "nbformat": 4,
 "nbformat_minor": 4
}
