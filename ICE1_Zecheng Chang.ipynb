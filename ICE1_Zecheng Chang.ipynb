{
 "cells": [
  {
   "cell_type": "markdown",
   "metadata": {},
   "source": [
    "# Introduction to Data Manipulation in Python - PART 1\n",
    "**Course**: HUDK 4050, Week 3  \n",
    "**Authuor**: Zecheng Chang  \n",
    "**Assignment**: ICE1  \n",
    "**Ojectives**:  \n",
    "1. Install and load packages.\n",
    "2. Understand data type and structure in Python\n",
    "3. Get started with data manipulation in Python"
   ]
  },
  {
   "cell_type": "code",
   "execution_count": 59,
   "metadata": {},
   "outputs": [
    {
     "name": "stdout",
     "output_type": "stream",
     "text": [
      "Package                            Version     \n",
      "---------------------------------- ------------\n",
      "alabaster                          0.7.12      \n",
      "altair                             4.1.0       \n",
      "anaconda-client                    1.7.2       \n",
      "anaconda-navigator                 1.10.0      \n",
      "anaconda-project                   0.8.3       \n",
      "appdirs                            1.4.4       \n",
      "appnope                            0.1.0       \n",
      "appscript                          1.0.1       \n",
      "asn1crypto                         1.0.1       \n",
      "astor                              0.8.1       \n",
      "astroid                            2.3.1       \n",
      "astropy                            3.2.2       \n",
      "atomicwrites                       1.3.0       \n",
      "attrs                              19.2.0      \n",
      "audioread                          2.1.9       \n",
      "Babel                              2.7.0       \n",
      "backcall                           0.1.0       \n",
      "backports.functools-lru-cache      1.5         \n",
      "backports.os                       0.1.1       \n",
      "backports.shutil-get-terminal-size 1.0.0       \n",
      "backports.tempfile                 1.0         \n",
      "backports.weakref                  1.0.post1   \n",
      "base58                             2.1.0       \n",
      "beautifulsoup4                     4.8.0       \n",
      "bitarray                           1.0.1       \n",
      "bkcharts                           0.2         \n",
      "bleach                             3.1.0       \n",
      "blinker                            1.4         \n",
      "blis                               0.4.1       \n",
      "bokeh                              1.3.4       \n",
      "boto                               2.49.0      \n",
      "Bottleneck                         1.2.1       \n",
      "cachetools                         4.2.1       \n",
      "catalogue                          1.0.0       \n",
      "certifi                            2019.9.11   \n",
      "cffi                               1.12.3      \n",
      "chardet                            3.0.4       \n",
      "chart-studio                       1.0.0       \n",
      "click                              7.1.2       \n",
      "click-plugins                      1.1.1       \n",
      "cligj                              0.7.1       \n",
      "cloudpickle                        1.2.2       \n",
      "clyent                             1.2.2       \n",
      "colorama                           0.4.4       \n",
      "colorlover                         0.3.0       \n",
      "conda                              4.9.2       \n",
      "conda-build                        3.18.9      \n",
      "conda-package-handling             1.6.0       \n",
      "conda-verify                       3.4.2       \n",
      "contextlib2                        0.6.0       \n",
      "coverage                           5.5         \n",
      "cryptography                       2.7         \n",
      "cufflinks                          0.17.0      \n",
      "cycler                             0.10.0      \n",
      "cymem                              2.0.5       \n",
      "Cython                             0.29.13     \n",
      "cytoolz                            0.10.0      \n",
      "dask                               2.5.2       \n",
      "decorator                          4.4.0       \n",
      "defusedxml                         0.6.0       \n",
      "Deprecated                         1.2.11      \n",
      "descartes                          1.1.0       \n",
      "distlib                            0.3.1       \n",
      "distributed                        2.5.2       \n",
      "Django                             2.1         \n",
      "docutils                           0.15.2      \n",
      "emoji                              1.5.0       \n",
      "en-core-web-lg                     2.3.1       \n",
      "entrypoints                        0.3         \n",
      "et-xmlfile                         1.0.1       \n",
      "fastcache                          1.1.0       \n",
      "ffmpeg                             1.4         \n",
      "filelock                           3.0.12      \n",
      "Fiona                              1.8.4       \n",
      "Flask                              1.1.1       \n",
      "fsspec                             0.5.2       \n",
      "future                             0.17.1      \n",
      "GDAL                               2.3.3       \n",
      "gensim                             4.0.0       \n",
      "geographiclib                      1.50        \n",
      "geopandas                          0.6.1       \n",
      "geopy                              2.1.0       \n",
      "gevent                             1.4.0       \n",
      "gitdb                              4.0.7       \n",
      "GitPython                          3.1.14      \n",
      "glob2                              0.7         \n",
      "gmplot                             1.4.1       \n",
      "gmpy2                              2.0.8       \n",
      "greenlet                           0.4.15      \n",
      "h5py                               2.9.0       \n",
      "HeapDict                           1.0.1       \n",
      "html5lib                           1.0.1       \n",
      "idna                               2.8         \n",
      "imageio                            2.6.0       \n",
      "imagesize                          1.1.0       \n",
      "importlib-metadata                 0.23        \n",
      "ipykernel                          5.1.2       \n",
      "ipython                            7.8.0       \n",
      "ipython-genutils                   0.2.0       \n",
      "ipywidgets                         7.5.1       \n",
      "isort                              4.3.21      \n",
      "itsdangerous                       1.1.0       \n",
      "jdcal                              1.4.1       \n",
      "jedi                               0.15.1      \n",
      "Jinja2                             2.10.3      \n",
      "joblib                             1.0.1       \n",
      "json5                              0.8.5       \n",
      "jsonschema                         3.0.2       \n",
      "jupyter                            1.0.0       \n",
      "jupyter-client                     5.3.3       \n",
      "jupyter-console                    6.0.0       \n",
      "jupyter-core                       4.5.0       \n",
      "jupyterlab                         1.1.4       \n",
      "jupyterlab-server                  1.0.6       \n",
      "keyring                            18.0.0      \n",
      "kiwisolver                         1.1.0       \n",
      "lazy-object-proxy                  1.4.2       \n",
      "libarchive-c                       2.8         \n",
      "librosa                            0.8.0       \n",
      "lief                               0.9.0       \n",
      "lightgbm                           3.2.1       \n",
      "llvmlite                           0.29.0      \n",
      "locket                             0.2.0       \n",
      "lxml                               4.6.3       \n",
      "mapclassify                        2.2.0       \n",
      "MarkupSafe                         1.1.1       \n",
      "matplotlib                         3.1.3       \n",
      "mccabe                             0.6.1       \n",
      "missingno                          0.4.2       \n",
      "mistune                            0.8.4       \n",
      "mkl-fft                            1.0.14      \n",
      "mkl-random                         1.1.0       \n",
      "mkl-service                        2.3.0       \n",
      "mock                               3.0.5       \n",
      "more-itertools                     7.2.0       \n",
      "mpmath                             1.1.0       \n",
      "msgpack                            0.6.1       \n",
      "multipledispatch                   0.6.0       \n",
      "multitasking                       0.0.9       \n",
      "munch                              2.5.0       \n",
      "murmurhash                         1.0.5       \n",
      "navigator-updater                  0.2.1       \n",
      "nbconvert                          5.6.0       \n",
      "nbformat                           4.4.0       \n",
      "networkx                           2.3         \n",
      "nltk                               3.4.5       \n",
      "nose                               1.3.7       \n",
      "notebook                           6.0.1       \n",
      "numba                              0.45.1      \n",
      "numexpr                            2.7.0       \n",
      "numpy                              1.15.1      \n",
      "numpydoc                           0.9.1       \n",
      "olefile                            0.46        \n",
      "openpyxl                           3.0.0       \n",
      "packaging                          19.2        \n",
      "pandas                             0.25.1      \n",
      "pandocfilters                      1.4.2       \n",
      "parso                              0.5.1       \n",
      "partd                              1.0.0       \n",
      "path.py                            12.0.1      \n",
      "pathlib2                           2.3.5       \n",
      "patsy                              0.5.1       \n",
      "pep8                               1.7.1       \n",
      "pexpect                            4.7.0       \n",
      "pickleshare                        0.7.5       \n",
      "Pillow                             6.2.0       \n",
      "pip                                19.2.3      \n",
      "pipenv                             2020.8.13   \n",
      "pkginfo                            1.5.0.1     \n",
      "plac                               1.1.3       \n",
      "plotly                             4.4.1       \n",
      "pluggy                             0.13.0      \n",
      "ply                                3.11        \n",
      "pooch                              1.3.0       \n",
      "pprintpp                           0.4.0       \n",
      "preshed                            3.0.5       \n",
      "prometheus-client                  0.7.1       \n",
      "prompt-toolkit                     2.0.10      \n",
      "protobuf                           3.15.8      \n",
      "psutil                             5.6.3       \n",
      "psycopg2                           2.8.6       \n",
      "ptyprocess                         0.6.0       \n",
      "py                                 1.8.0       \n",
      "pyarrow                            3.0.0       \n",
      "pycodestyle                        2.5.0       \n",
      "pycosat                            0.6.3       \n",
      "pycountry                          20.7.3      \n",
      "pycountry-convert                  0.7.2       \n",
      "pycparser                          2.19        \n",
      "pycrypto                           2.6.1       \n",
      "pycurl                             7.43.0.3    \n",
      "pydeck                             0.6.1       \n",
      "pydub                              0.25.1      \n",
      "pyflakes                           2.1.1       \n",
      "Pygments                           2.4.2       \n",
      "pylint                             2.4.2       \n",
      "pyodbc                             4.0.27      \n",
      "pyOpenSSL                          19.0.0      \n",
      "pyparsing                          2.4.2       \n",
      "pyproj                             1.9.6       \n",
      "pyrsistent                         0.15.4      \n",
      "PySocks                            1.7.1       \n",
      "pytest                             5.2.1       \n",
      "pytest-arraydiff                   0.3         \n",
      "pytest-astropy                     0.5.0       \n",
      "pytest-cov                         2.11.1      \n",
      "pytest-doctestplus                 0.4.0       \n",
      "pytest-mock                        3.5.1       \n",
      "pytest-openfiles                   0.4.0       \n",
      "pytest-remotedata                  0.3.2       \n",
      "python-dateutil                    2.8.0       \n",
      "python-Levenshtein                 0.12.2      \n",
      "pytz                               2019.3      \n",
      "PyWavelets                         1.0.3       \n",
      "PyYAML                             5.1.2       \n",
      "pyzmq                              18.1.0      \n",
      "QtAwesome                          0.6.0       \n",
      "qtconsole                          4.5.5       \n",
      "QtPy                               1.9.0       \n",
      "regex                              2021.3.17   \n",
      "repoze.lru                         0.7         \n",
      "requests                           2.22.0      \n",
      "resampy                            0.2.2       \n",
      "retrying                           1.3.3       \n",
      "rope                               0.14.0      \n",
      "Rtree                              0.9.4       \n",
      "ruamel-yaml                        0.15.46     \n",
      "sacremoses                         0.0.43      \n",
      "scikit-image                       0.15.0      \n",
      "scikit-learn                       0.24.1      \n",
      "scipy                              1.3.1       \n",
      "seaborn                            0.11.1      \n",
      "Send2Trash                         1.5.0       \n",
      "setuptools                         41.4.0      \n",
      "Shapely                            1.6.4.post1 \n",
      "simplegeneric                      0.8.1       \n",
      "singledispatch                     3.4.0.3     \n",
      "six                                1.12.0      \n",
      "smart-open                         4.2.0       \n",
      "smmap                              4.0.0       \n",
      "snowballstemmer                    2.0.0       \n",
      "sortedcollections                  1.1.2       \n",
      "sortedcontainers                   2.1.0       \n",
      "SoundFile                          0.10.3.post1\n",
      "soupsieve                          1.9.3       \n",
      "spacy                              2.3.2       \n",
      "Sphinx                             2.2.0       \n",
      "sphinxcontrib-applehelp            1.0.1       \n",
      "sphinxcontrib-devhelp              1.0.1       \n",
      "sphinxcontrib-htmlhelp             1.0.2       \n",
      "sphinxcontrib-jsmath               1.0.1       \n",
      "sphinxcontrib-qthelp               1.0.2       \n",
      "sphinxcontrib-serializinghtml      1.1.3       \n",
      "sphinxcontrib-websupport           1.1.2       \n",
      "spyder                             3.3.6       \n",
      "spyder-kernels                     0.5.2       \n",
      "SQLAlchemy                         1.3.23      \n",
      "srsly                              1.0.5       \n",
      "statsmodels                        0.10.1      \n",
      "streamlit                          0.80.0      \n",
      "sympy                              1.4         \n",
      "tables                             3.5.2       \n",
      "tblib                              1.4.0       \n",
      "terminado                          0.8.2       \n",
      "testpath                           0.4.2       \n",
      "thinc                              7.4.1       \n",
      "threadpoolctl                      2.1.0       \n",
      "tokenizers                         0.10.1      \n",
      "toml                               0.10.2      \n",
      "toolz                              0.10.0      \n",
      "tornado                            6.0.3       \n",
      "tqdm                               4.60.0      \n",
      "traitlets                          4.3.3       \n",
      "transformers                       4.4.2       \n",
      "tzlocal                            2.1         \n",
      "unicodecsv                         0.14.1      \n",
      "urllib3                            1.24.2      \n",
      "validators                         0.18.2      \n",
      "virtualenv                         20.0.31     \n",
      "virtualenv-clone                   0.5.4       \n",
      "wasabi                             0.8.2       \n",
      "wcwidth                            0.1.7       \n",
      "webcolors                          1.3         \n",
      "webencodings                       0.5.1       \n",
      "Werkzeug                           0.16.0      \n",
      "wheel                              0.33.6      \n",
      "widgetsnbextension                 3.5.1       \n",
      "wrapt                              1.11.2      \n",
      "wurlitzer                          1.0.3       \n",
      "xgboost                            1.4.2       \n",
      "xlrd                               1.2.0       \n",
      "XlsxWriter                         1.2.1       \n",
      "xlwings                            0.15.10     \n",
      "xlwt                               1.3.0       \n",
      "xmltodict                          0.12.0      \n",
      "yfinance                           0.1.59      \n",
      "zict                               1.0.0       \n",
      "zipp                               0.6.0       \n"
     ]
    }
   ],
   "source": [
    "# install packages\n",
    "!pip list"
   ]
  },
  {
   "cell_type": "code",
   "execution_count": 10,
   "metadata": {},
   "outputs": [
    {
     "name": "stdout",
     "output_type": "stream",
     "text": [
      "😂\n",
      "👍\n"
     ]
    }
   ],
   "source": [
    "from emoji import emojize\n",
    "\n",
    "print(emojize(\":face_with_tears_of_joy:\"))\n",
    "print(emojize(\":thumbs_up:\"))"
   ]
  },
  {
   "cell_type": "code",
   "execution_count": 11,
   "metadata": {},
   "outputs": [],
   "source": [
    "import array\n",
    "import numpy as np\n",
    "import pandas as pd\n",
    "import matplotlib.pyplot as plt"
   ]
  },
  {
   "cell_type": "markdown",
   "metadata": {},
   "source": [
    "##Understanding data type and structure in Python"
   ]
  },
  {
   "cell_type": "code",
   "execution_count": 16,
   "metadata": {},
   "outputs": [],
   "source": [
    "var = \"Hello world!\"\n",
    "var = 1.55\n",
    "var = 2\n",
    "var = True\n",
    "var = None"
   ]
  },
  {
   "cell_type": "code",
   "execution_count": 14,
   "metadata": {},
   "outputs": [
    {
     "name": "stdout",
     "output_type": "stream",
     "text": [
      "None\n"
     ]
    }
   ],
   "source": [
    "print(var)"
   ]
  },
  {
   "cell_type": "code",
   "execution_count": 17,
   "metadata": {},
   "outputs": [],
   "source": [
    "var"
   ]
  },
  {
   "cell_type": "code",
   "execution_count": 21,
   "metadata": {},
   "outputs": [],
   "source": [
    "l1 = [1,2,3]\n",
    "l2 = list(range(3))\n",
    "l3 = [True, \"2\", 9.0, 3]"
   ]
  },
  {
   "cell_type": "code",
   "execution_count": 22,
   "metadata": {},
   "outputs": [
    {
     "data": {
      "text/plain": [
       "[True, '2', 9.0, 3]"
      ]
     },
     "execution_count": 22,
     "metadata": {},
     "output_type": "execute_result"
    }
   ],
   "source": [
    "l3 "
   ]
  },
  {
   "cell_type": "code",
   "execution_count": 23,
   "metadata": {},
   "outputs": [
    {
     "data": {
      "text/plain": [
       "list"
      ]
     },
     "execution_count": 23,
     "metadata": {},
     "output_type": "execute_result"
    }
   ],
   "source": [
    "type(l3)"
   ]
  },
  {
   "cell_type": "markdown",
   "metadata": {},
   "source": [
    "### Fixed-type arrays in Python"
   ]
  },
  {
   "cell_type": "code",
   "execution_count": 25,
   "metadata": {},
   "outputs": [],
   "source": [
    "A = array.array('i',l1)"
   ]
  },
  {
   "cell_type": "code",
   "execution_count": 26,
   "metadata": {},
   "outputs": [
    {
     "data": {
      "text/plain": [
       "array('i', [1, 2, 3])"
      ]
     },
     "execution_count": 26,
     "metadata": {},
     "output_type": "execute_result"
    }
   ],
   "source": [
    "A"
   ]
  },
  {
   "cell_type": "markdown",
   "metadata": {},
   "source": [
    "### Creating arrays"
   ]
  },
  {
   "cell_type": "code",
   "execution_count": 29,
   "metadata": {},
   "outputs": [
    {
     "data": {
      "text/plain": [
       "array([0, 0, 0, 0, 0, 0, 0, 0, 0, 0])"
      ]
     },
     "execution_count": 29,
     "metadata": {},
     "output_type": "execute_result"
    }
   ],
   "source": [
    "np.zeros(10,dtype=int)"
   ]
  },
  {
   "cell_type": "code",
   "execution_count": 30,
   "metadata": {},
   "outputs": [
    {
     "data": {
      "text/plain": [
       "array([[1., 1., 1., 1., 1.],\n",
       "       [1., 1., 1., 1., 1.],\n",
       "       [1., 1., 1., 1., 1.]])"
      ]
     },
     "execution_count": 30,
     "metadata": {},
     "output_type": "execute_result"
    }
   ],
   "source": [
    "np.ones((3,5), dtype=float)"
   ]
  },
  {
   "cell_type": "code",
   "execution_count": 31,
   "metadata": {},
   "outputs": [
    {
     "data": {
      "text/plain": [
       "array([[3.14, 3.14, 3.14, 3.14, 3.14],\n",
       "       [3.14, 3.14, 3.14, 3.14, 3.14],\n",
       "       [3.14, 3.14, 3.14, 3.14, 3.14]])"
      ]
     },
     "execution_count": 31,
     "metadata": {},
     "output_type": "execute_result"
    }
   ],
   "source": [
    "np.full((3,5), 3.14)"
   ]
  },
  {
   "cell_type": "code",
   "execution_count": 32,
   "metadata": {},
   "outputs": [
    {
     "data": {
      "text/plain": [
       "array([[5, 6, 2],\n",
       "       [6, 3, 8],\n",
       "       [5, 2, 0]])"
      ]
     },
     "execution_count": 32,
     "metadata": {},
     "output_type": "execute_result"
    }
   ],
   "source": [
    "np.random.randint(0,10,(3,3))"
   ]
  },
  {
   "cell_type": "markdown",
   "metadata": {},
   "source": [
    "### Pandas Objects"
   ]
  },
  {
   "cell_type": "code",
   "execution_count": 34,
   "metadata": {},
   "outputs": [],
   "source": [
    "S = pd.Series([1,2,3,4.0])"
   ]
  },
  {
   "cell_type": "code",
   "execution_count": 35,
   "metadata": {},
   "outputs": [
    {
     "data": {
      "text/plain": [
       "0    1.0\n",
       "1    2.0\n",
       "2    3.0\n",
       "3    4.0\n",
       "dtype: float64"
      ]
     },
     "execution_count": 35,
     "metadata": {},
     "output_type": "execute_result"
    }
   ],
   "source": [
    "S"
   ]
  },
  {
   "cell_type": "code",
   "execution_count": 36,
   "metadata": {},
   "outputs": [
    {
     "data": {
      "text/html": [
       "<div>\n",
       "<style scoped>\n",
       "    .dataframe tbody tr th:only-of-type {\n",
       "        vertical-align: middle;\n",
       "    }\n",
       "\n",
       "    .dataframe tbody tr th {\n",
       "        vertical-align: top;\n",
       "    }\n",
       "\n",
       "    .dataframe thead th {\n",
       "        text-align: right;\n",
       "    }\n",
       "</style>\n",
       "<table border=\"1\" class=\"dataframe\">\n",
       "  <thead>\n",
       "    <tr style=\"text-align: right;\">\n",
       "      <th></th>\n",
       "      <th>foo</th>\n",
       "      <th>bar</th>\n",
       "    </tr>\n",
       "  </thead>\n",
       "  <tbody>\n",
       "    <tr>\n",
       "      <td>a</td>\n",
       "      <td>0.076802</td>\n",
       "      <td>0.973884</td>\n",
       "    </tr>\n",
       "    <tr>\n",
       "      <td>b</td>\n",
       "      <td>0.461729</td>\n",
       "      <td>0.650667</td>\n",
       "    </tr>\n",
       "    <tr>\n",
       "      <td>c</td>\n",
       "      <td>0.631442</td>\n",
       "      <td>0.138447</td>\n",
       "    </tr>\n",
       "  </tbody>\n",
       "</table>\n",
       "</div>"
      ],
      "text/plain": [
       "        foo       bar\n",
       "a  0.076802  0.973884\n",
       "b  0.461729  0.650667\n",
       "c  0.631442  0.138447"
      ]
     },
     "execution_count": 36,
     "metadata": {},
     "output_type": "execute_result"
    }
   ],
   "source": [
    "pd.DataFrame(np.random.rand(3,2), columns=['foo','bar'], index=['a','b','c'])"
   ]
  },
  {
   "cell_type": "markdown",
   "metadata": {},
   "source": [
    "### Getting started with data manipulation in Python"
   ]
  },
  {
   "cell_type": "markdown",
   "metadata": {},
   "source": [
    "#### Importing data"
   ]
  },
  {
   "cell_type": "code",
   "execution_count": 37,
   "metadata": {},
   "outputs": [
    {
     "data": {
      "text/html": [
       "<div>\n",
       "<style scoped>\n",
       "    .dataframe tbody tr th:only-of-type {\n",
       "        vertical-align: middle;\n",
       "    }\n",
       "\n",
       "    .dataframe tbody tr th {\n",
       "        vertical-align: top;\n",
       "    }\n",
       "\n",
       "    .dataframe thead th {\n",
       "        text-align: right;\n",
       "    }\n",
       "</style>\n",
       "<table border=\"1\" class=\"dataframe\">\n",
       "  <thead>\n",
       "    <tr style=\"text-align: right;\">\n",
       "      <th></th>\n",
       "      <th>DBN</th>\n",
       "      <th>Quality_Review_Score</th>\n",
       "      <th>Progress_Rpt_10-11</th>\n",
       "      <th>Student_Progress_10-11</th>\n",
       "      <th>graduation 2010-11</th>\n",
       "      <th>college enroll 2010-11</th>\n",
       "    </tr>\n",
       "  </thead>\n",
       "  <tbody>\n",
       "    <tr>\n",
       "      <td>0</td>\n",
       "      <td>01M292</td>\n",
       "      <td>Developing</td>\n",
       "      <td>C</td>\n",
       "      <td>C</td>\n",
       "      <td>0.563</td>\n",
       "      <td>0.519</td>\n",
       "    </tr>\n",
       "    <tr>\n",
       "      <td>1</td>\n",
       "      <td>01M448</td>\n",
       "      <td>Developing</td>\n",
       "      <td>C</td>\n",
       "      <td>B</td>\n",
       "      <td>0.707</td>\n",
       "      <td>0.363</td>\n",
       "    </tr>\n",
       "    <tr>\n",
       "      <td>2</td>\n",
       "      <td>01M450</td>\n",
       "      <td>Well Developed</td>\n",
       "      <td>A</td>\n",
       "      <td>B</td>\n",
       "      <td>0.716</td>\n",
       "      <td>0.692</td>\n",
       "    </tr>\n",
       "    <tr>\n",
       "      <td>3</td>\n",
       "      <td>01M509</td>\n",
       "      <td>Proficient</td>\n",
       "      <td>C</td>\n",
       "      <td>C</td>\n",
       "      <td>0.564</td>\n",
       "      <td>0.477</td>\n",
       "    </tr>\n",
       "    <tr>\n",
       "      <td>4</td>\n",
       "      <td>01M539</td>\n",
       "      <td>Proficient</td>\n",
       "      <td>A</td>\n",
       "      <td>A</td>\n",
       "      <td>0.953</td>\n",
       "      <td>0.870</td>\n",
       "    </tr>\n",
       "    <tr>\n",
       "      <td>...</td>\n",
       "      <td>...</td>\n",
       "      <td>...</td>\n",
       "      <td>...</td>\n",
       "      <td>...</td>\n",
       "      <td>...</td>\n",
       "      <td>...</td>\n",
       "    </tr>\n",
       "    <tr>\n",
       "      <td>417</td>\n",
       "      <td>10X696</td>\n",
       "      <td>Well Developed</td>\n",
       "      <td>A</td>\n",
       "      <td>A</td>\n",
       "      <td>1.000</td>\n",
       "      <td>0.936</td>\n",
       "    </tr>\n",
       "    <tr>\n",
       "      <td>418</td>\n",
       "      <td>13K430</td>\n",
       "      <td>Proficient</td>\n",
       "      <td>B</td>\n",
       "      <td>B</td>\n",
       "      <td>0.977</td>\n",
       "      <td>0.867</td>\n",
       "    </tr>\n",
       "    <tr>\n",
       "      <td>419</td>\n",
       "      <td>10X445</td>\n",
       "      <td>Well Developed</td>\n",
       "      <td>A</td>\n",
       "      <td>A</td>\n",
       "      <td>1.000</td>\n",
       "      <td>0.994</td>\n",
       "    </tr>\n",
       "    <tr>\n",
       "      <td>420</td>\n",
       "      <td>14K449</td>\n",
       "      <td>Well Developed</td>\n",
       "      <td>B</td>\n",
       "      <td>B</td>\n",
       "      <td>0.914</td>\n",
       "      <td>0.961</td>\n",
       "    </tr>\n",
       "    <tr>\n",
       "      <td>421</td>\n",
       "      <td>28Q687</td>\n",
       "      <td>Proficient</td>\n",
       "      <td>A</td>\n",
       "      <td>B</td>\n",
       "      <td>1.000</td>\n",
       "      <td>0.972</td>\n",
       "    </tr>\n",
       "  </tbody>\n",
       "</table>\n",
       "<p>422 rows × 6 columns</p>\n",
       "</div>"
      ],
      "text/plain": [
       "        DBN Quality_Review_Score Progress_Rpt_10-11 Student_Progress_10-11  \\\n",
       "0    01M292           Developing                  C                      C   \n",
       "1    01M448           Developing                  C                      B   \n",
       "2    01M450       Well Developed                  A                      B   \n",
       "3    01M509           Proficient                  C                      C   \n",
       "4    01M539           Proficient                  A                      A   \n",
       "..      ...                  ...                ...                    ...   \n",
       "417  10X696       Well Developed                  A                      A   \n",
       "418  13K430           Proficient                  B                      B   \n",
       "419  10X445       Well Developed                  A                      A   \n",
       "420  14K449       Well Developed                  B                      B   \n",
       "421  28Q687           Proficient                  A                      B   \n",
       "\n",
       "     graduation 2010-11  college enroll 2010-11  \n",
       "0                 0.563                   0.519  \n",
       "1                 0.707                   0.363  \n",
       "2                 0.716                   0.692  \n",
       "3                 0.564                   0.477  \n",
       "4                 0.953                   0.870  \n",
       "..                  ...                     ...  \n",
       "417               1.000                   0.936  \n",
       "418               0.977                   0.867  \n",
       "419               1.000                   0.994  \n",
       "420               0.914                   0.961  \n",
       "421               1.000                   0.972  \n",
       "\n",
       "[422 rows x 6 columns]"
      ]
     },
     "execution_count": 37,
     "metadata": {},
     "output_type": "execute_result"
    }
   ],
   "source": [
    "ICEdata = pd.read_csv('ICE1_Data.csv')\n",
    "ICEdata"
   ]
  },
  {
   "cell_type": "code",
   "execution_count": 38,
   "metadata": {},
   "outputs": [
    {
     "data": {
      "text/plain": [
       "'/Users/czc/Documents/TC 2021 Fall/HUDK 4050'"
      ]
     },
     "execution_count": 38,
     "metadata": {},
     "output_type": "execute_result"
    }
   ],
   "source": [
    "import os\n",
    "os.getcwd()"
   ]
  },
  {
   "cell_type": "code",
   "execution_count": 40,
   "metadata": {},
   "outputs": [
    {
     "data": {
      "text/html": [
       "<div>\n",
       "<style scoped>\n",
       "    .dataframe tbody tr th:only-of-type {\n",
       "        vertical-align: middle;\n",
       "    }\n",
       "\n",
       "    .dataframe tbody tr th {\n",
       "        vertical-align: top;\n",
       "    }\n",
       "\n",
       "    .dataframe thead th {\n",
       "        text-align: right;\n",
       "    }\n",
       "</style>\n",
       "<table border=\"1\" class=\"dataframe\">\n",
       "  <thead>\n",
       "    <tr style=\"text-align: right;\">\n",
       "      <th></th>\n",
       "      <th>DBN</th>\n",
       "      <th>Quality_Review_Score</th>\n",
       "      <th>Progress_Rpt_10-11</th>\n",
       "      <th>Student_Progress_10-11</th>\n",
       "      <th>graduation 2010-11</th>\n",
       "      <th>college enroll 2010-11</th>\n",
       "    </tr>\n",
       "  </thead>\n",
       "  <tbody>\n",
       "    <tr>\n",
       "      <td>count</td>\n",
       "      <td>422</td>\n",
       "      <td>368</td>\n",
       "      <td>310</td>\n",
       "      <td>310</td>\n",
       "      <td>310.000000</td>\n",
       "      <td>291.000000</td>\n",
       "    </tr>\n",
       "    <tr>\n",
       "      <td>unique</td>\n",
       "      <td>422</td>\n",
       "      <td>6</td>\n",
       "      <td>5</td>\n",
       "      <td>5</td>\n",
       "      <td>NaN</td>\n",
       "      <td>NaN</td>\n",
       "    </tr>\n",
       "    <tr>\n",
       "      <td>top</td>\n",
       "      <td>07X547</td>\n",
       "      <td>Proficient</td>\n",
       "      <td>A</td>\n",
       "      <td>C</td>\n",
       "      <td>NaN</td>\n",
       "      <td>NaN</td>\n",
       "    </tr>\n",
       "    <tr>\n",
       "      <td>freq</td>\n",
       "      <td>1</td>\n",
       "      <td>186</td>\n",
       "      <td>109</td>\n",
       "      <td>93</td>\n",
       "      <td>NaN</td>\n",
       "      <td>NaN</td>\n",
       "    </tr>\n",
       "    <tr>\n",
       "      <td>mean</td>\n",
       "      <td>NaN</td>\n",
       "      <td>NaN</td>\n",
       "      <td>NaN</td>\n",
       "      <td>NaN</td>\n",
       "      <td>0.737977</td>\n",
       "      <td>0.531196</td>\n",
       "    </tr>\n",
       "    <tr>\n",
       "      <td>std</td>\n",
       "      <td>NaN</td>\n",
       "      <td>NaN</td>\n",
       "      <td>NaN</td>\n",
       "      <td>NaN</td>\n",
       "      <td>0.143356</td>\n",
       "      <td>0.193129</td>\n",
       "    </tr>\n",
       "    <tr>\n",
       "      <td>min</td>\n",
       "      <td>NaN</td>\n",
       "      <td>NaN</td>\n",
       "      <td>NaN</td>\n",
       "      <td>NaN</td>\n",
       "      <td>0.412000</td>\n",
       "      <td>0.141000</td>\n",
       "    </tr>\n",
       "    <tr>\n",
       "      <td>25%</td>\n",
       "      <td>NaN</td>\n",
       "      <td>NaN</td>\n",
       "      <td>NaN</td>\n",
       "      <td>NaN</td>\n",
       "      <td>0.625250</td>\n",
       "      <td>0.391000</td>\n",
       "    </tr>\n",
       "    <tr>\n",
       "      <td>50%</td>\n",
       "      <td>NaN</td>\n",
       "      <td>NaN</td>\n",
       "      <td>NaN</td>\n",
       "      <td>NaN</td>\n",
       "      <td>0.726000</td>\n",
       "      <td>0.489000</td>\n",
       "    </tr>\n",
       "    <tr>\n",
       "      <td>75%</td>\n",
       "      <td>NaN</td>\n",
       "      <td>NaN</td>\n",
       "      <td>NaN</td>\n",
       "      <td>NaN</td>\n",
       "      <td>0.850750</td>\n",
       "      <td>0.656000</td>\n",
       "    </tr>\n",
       "    <tr>\n",
       "      <td>max</td>\n",
       "      <td>NaN</td>\n",
       "      <td>NaN</td>\n",
       "      <td>NaN</td>\n",
       "      <td>NaN</td>\n",
       "      <td>1.000000</td>\n",
       "      <td>1.000000</td>\n",
       "    </tr>\n",
       "  </tbody>\n",
       "</table>\n",
       "</div>"
      ],
      "text/plain": [
       "           DBN Quality_Review_Score Progress_Rpt_10-11 Student_Progress_10-11  \\\n",
       "count      422                  368                310                    310   \n",
       "unique     422                    6                  5                      5   \n",
       "top     07X547           Proficient                  A                      C   \n",
       "freq         1                  186                109                     93   \n",
       "mean       NaN                  NaN                NaN                    NaN   \n",
       "std        NaN                  NaN                NaN                    NaN   \n",
       "min        NaN                  NaN                NaN                    NaN   \n",
       "25%        NaN                  NaN                NaN                    NaN   \n",
       "50%        NaN                  NaN                NaN                    NaN   \n",
       "75%        NaN                  NaN                NaN                    NaN   \n",
       "max        NaN                  NaN                NaN                    NaN   \n",
       "\n",
       "        graduation 2010-11  college enroll 2010-11  \n",
       "count           310.000000              291.000000  \n",
       "unique                 NaN                     NaN  \n",
       "top                    NaN                     NaN  \n",
       "freq                   NaN                     NaN  \n",
       "mean              0.737977                0.531196  \n",
       "std               0.143356                0.193129  \n",
       "min               0.412000                0.141000  \n",
       "25%               0.625250                0.391000  \n",
       "50%               0.726000                0.489000  \n",
       "75%               0.850750                0.656000  \n",
       "max               1.000000                1.000000  "
      ]
     },
     "execution_count": 40,
     "metadata": {},
     "output_type": "execute_result"
    }
   ],
   "source": [
    "ICEdata.describe(include = 'all')\n",
    "# ICEdata.describe()"
   ]
  },
  {
   "cell_type": "code",
   "execution_count": 42,
   "metadata": {},
   "outputs": [
    {
     "name": "stdout",
     "output_type": "stream",
     "text": [
      "['Developing' 'Well Developed' 'Proficient' nan 'Underdeveloped'\n",
      " 'Outstanding (only an option in 2007-8)'\n",
      " 'Underdeveloped with Proficient Features (only an option in 2007-8, 2008-9 and 2009-10)']\n"
     ]
    }
   ],
   "source": [
    "print(ICEdata['Quality_Review_Score'].unique())"
   ]
  },
  {
   "cell_type": "code",
   "execution_count": 45,
   "metadata": {},
   "outputs": [
    {
     "data": {
      "text/plain": [
       "Proficient                                                                                186\n",
       "Well Developed                                                                            108\n",
       "Developing                                                                                 64\n",
       "Underdeveloped                                                                              6\n",
       "Outstanding (only an option in 2007-8)                                                      3\n",
       "Underdeveloped with Proficient Features (only an option in 2007-8, 2008-9 and 2009-10)      1\n",
       "Name: Quality_Review_Score, dtype: int64"
      ]
     },
     "execution_count": 45,
     "metadata": {},
     "output_type": "execute_result"
    }
   ],
   "source": [
    "ICEdata['Quality_Review_Score'].value_counts()"
   ]
  },
  {
   "cell_type": "markdown",
   "metadata": {},
   "source": [
    "#### Selecting limited variables"
   ]
  },
  {
   "cell_type": "code",
   "execution_count": 48,
   "metadata": {},
   "outputs": [],
   "source": [
    "qualityEnroll = graduationEnroll = ICEdata[['Quality_Review_Score','graduation 2010-11', 'college enroll 2010-11']]"
   ]
  },
  {
   "cell_type": "code",
   "execution_count": 49,
   "metadata": {},
   "outputs": [
    {
     "data": {
      "text/html": [
       "<div>\n",
       "<style scoped>\n",
       "    .dataframe tbody tr th:only-of-type {\n",
       "        vertical-align: middle;\n",
       "    }\n",
       "\n",
       "    .dataframe tbody tr th {\n",
       "        vertical-align: top;\n",
       "    }\n",
       "\n",
       "    .dataframe thead th {\n",
       "        text-align: right;\n",
       "    }\n",
       "</style>\n",
       "<table border=\"1\" class=\"dataframe\">\n",
       "  <thead>\n",
       "    <tr style=\"text-align: right;\">\n",
       "      <th></th>\n",
       "      <th>Quality_Review_Score</th>\n",
       "      <th>graduation 2010-11</th>\n",
       "      <th>college enroll 2010-11</th>\n",
       "    </tr>\n",
       "  </thead>\n",
       "  <tbody>\n",
       "    <tr>\n",
       "      <td>0</td>\n",
       "      <td>Developing</td>\n",
       "      <td>0.563</td>\n",
       "      <td>0.519</td>\n",
       "    </tr>\n",
       "    <tr>\n",
       "      <td>1</td>\n",
       "      <td>Developing</td>\n",
       "      <td>0.707</td>\n",
       "      <td>0.363</td>\n",
       "    </tr>\n",
       "    <tr>\n",
       "      <td>2</td>\n",
       "      <td>Well Developed</td>\n",
       "      <td>0.716</td>\n",
       "      <td>0.692</td>\n",
       "    </tr>\n",
       "    <tr>\n",
       "      <td>3</td>\n",
       "      <td>Proficient</td>\n",
       "      <td>0.564</td>\n",
       "      <td>0.477</td>\n",
       "    </tr>\n",
       "    <tr>\n",
       "      <td>4</td>\n",
       "      <td>Proficient</td>\n",
       "      <td>0.953</td>\n",
       "      <td>0.870</td>\n",
       "    </tr>\n",
       "    <tr>\n",
       "      <td>...</td>\n",
       "      <td>...</td>\n",
       "      <td>...</td>\n",
       "      <td>...</td>\n",
       "    </tr>\n",
       "    <tr>\n",
       "      <td>417</td>\n",
       "      <td>Well Developed</td>\n",
       "      <td>1.000</td>\n",
       "      <td>0.936</td>\n",
       "    </tr>\n",
       "    <tr>\n",
       "      <td>418</td>\n",
       "      <td>Proficient</td>\n",
       "      <td>0.977</td>\n",
       "      <td>0.867</td>\n",
       "    </tr>\n",
       "    <tr>\n",
       "      <td>419</td>\n",
       "      <td>Well Developed</td>\n",
       "      <td>1.000</td>\n",
       "      <td>0.994</td>\n",
       "    </tr>\n",
       "    <tr>\n",
       "      <td>420</td>\n",
       "      <td>Well Developed</td>\n",
       "      <td>0.914</td>\n",
       "      <td>0.961</td>\n",
       "    </tr>\n",
       "    <tr>\n",
       "      <td>421</td>\n",
       "      <td>Proficient</td>\n",
       "      <td>1.000</td>\n",
       "      <td>0.972</td>\n",
       "    </tr>\n",
       "  </tbody>\n",
       "</table>\n",
       "<p>422 rows × 3 columns</p>\n",
       "</div>"
      ],
      "text/plain": [
       "    Quality_Review_Score  graduation 2010-11  college enroll 2010-11\n",
       "0             Developing               0.563                   0.519\n",
       "1             Developing               0.707                   0.363\n",
       "2         Well Developed               0.716                   0.692\n",
       "3             Proficient               0.564                   0.477\n",
       "4             Proficient               0.953                   0.870\n",
       "..                   ...                 ...                     ...\n",
       "417       Well Developed               1.000                   0.936\n",
       "418           Proficient               0.977                   0.867\n",
       "419       Well Developed               1.000                   0.994\n",
       "420       Well Developed               0.914                   0.961\n",
       "421           Proficient               1.000                   0.972\n",
       "\n",
       "[422 rows x 3 columns]"
      ]
     },
     "execution_count": 49,
     "metadata": {},
     "output_type": "execute_result"
    }
   ],
   "source": [
    "qualityEnroll"
   ]
  },
  {
   "cell_type": "code",
   "execution_count": 50,
   "metadata": {},
   "outputs": [
    {
     "data": {
      "text/html": [
       "<div>\n",
       "<style scoped>\n",
       "    .dataframe tbody tr th:only-of-type {\n",
       "        vertical-align: middle;\n",
       "    }\n",
       "\n",
       "    .dataframe tbody tr th {\n",
       "        vertical-align: top;\n",
       "    }\n",
       "\n",
       "    .dataframe thead th {\n",
       "        text-align: right;\n",
       "    }\n",
       "</style>\n",
       "<table border=\"1\" class=\"dataframe\">\n",
       "  <thead>\n",
       "    <tr style=\"text-align: right;\">\n",
       "      <th></th>\n",
       "      <th>Quality_Review_Score</th>\n",
       "      <th>graduation 2010-11</th>\n",
       "      <th>college enroll 2010-11</th>\n",
       "    </tr>\n",
       "  </thead>\n",
       "  <tbody>\n",
       "    <tr>\n",
       "      <td>0</td>\n",
       "      <td>Developing</td>\n",
       "      <td>0.563</td>\n",
       "      <td>0.519</td>\n",
       "    </tr>\n",
       "    <tr>\n",
       "      <td>1</td>\n",
       "      <td>Developing</td>\n",
       "      <td>0.707</td>\n",
       "      <td>0.363</td>\n",
       "    </tr>\n",
       "    <tr>\n",
       "      <td>2</td>\n",
       "      <td>Well Developed</td>\n",
       "      <td>0.716</td>\n",
       "      <td>0.692</td>\n",
       "    </tr>\n",
       "    <tr>\n",
       "      <td>3</td>\n",
       "      <td>Proficient</td>\n",
       "      <td>0.564</td>\n",
       "      <td>0.477</td>\n",
       "    </tr>\n",
       "    <tr>\n",
       "      <td>4</td>\n",
       "      <td>Proficient</td>\n",
       "      <td>0.953</td>\n",
       "      <td>0.870</td>\n",
       "    </tr>\n",
       "    <tr>\n",
       "      <td>...</td>\n",
       "      <td>...</td>\n",
       "      <td>...</td>\n",
       "      <td>...</td>\n",
       "    </tr>\n",
       "    <tr>\n",
       "      <td>417</td>\n",
       "      <td>Well Developed</td>\n",
       "      <td>1.000</td>\n",
       "      <td>0.936</td>\n",
       "    </tr>\n",
       "    <tr>\n",
       "      <td>418</td>\n",
       "      <td>Proficient</td>\n",
       "      <td>0.977</td>\n",
       "      <td>0.867</td>\n",
       "    </tr>\n",
       "    <tr>\n",
       "      <td>419</td>\n",
       "      <td>Well Developed</td>\n",
       "      <td>1.000</td>\n",
       "      <td>0.994</td>\n",
       "    </tr>\n",
       "    <tr>\n",
       "      <td>420</td>\n",
       "      <td>Well Developed</td>\n",
       "      <td>0.914</td>\n",
       "      <td>0.961</td>\n",
       "    </tr>\n",
       "    <tr>\n",
       "      <td>421</td>\n",
       "      <td>Proficient</td>\n",
       "      <td>1.000</td>\n",
       "      <td>0.972</td>\n",
       "    </tr>\n",
       "  </tbody>\n",
       "</table>\n",
       "<p>422 rows × 3 columns</p>\n",
       "</div>"
      ],
      "text/plain": [
       "    Quality_Review_Score  graduation 2010-11  college enroll 2010-11\n",
       "0             Developing               0.563                   0.519\n",
       "1             Developing               0.707                   0.363\n",
       "2         Well Developed               0.716                   0.692\n",
       "3             Proficient               0.564                   0.477\n",
       "4             Proficient               0.953                   0.870\n",
       "..                   ...                 ...                     ...\n",
       "417       Well Developed               1.000                   0.936\n",
       "418           Proficient               0.977                   0.867\n",
       "419       Well Developed               1.000                   0.994\n",
       "420       Well Developed               0.914                   0.961\n",
       "421           Proficient               1.000                   0.972\n",
       "\n",
       "[422 rows x 3 columns]"
      ]
     },
     "execution_count": 50,
     "metadata": {},
     "output_type": "execute_result"
    }
   ],
   "source": [
    "graduationEnroll"
   ]
  },
  {
   "cell_type": "markdown",
   "metadata": {},
   "source": [
    "#### Plots"
   ]
  },
  {
   "cell_type": "code",
   "execution_count": 52,
   "metadata": {},
   "outputs": [
    {
     "data": {
      "image/png": "[encoded data removed]",
      "text/plain": [
       "<Figure size 432x288 with 1 Axes>"
      ]
     },
     "metadata": {
      "needs_background": "light"
     },
     "output_type": "display_data"
    }
   ],
   "source": [
    "graduationEnroll.plot.scatter(x = 'graduation 2010-11', y = 'college enroll 2010-11');"
   ]
  },
  {
   "cell_type": "code",
   "execution_count": 56,
   "metadata": {},
   "outputs": [
    {
     "data": {
      "image/png": "[encoded data removed]",
      "text/plain": [
       "<Figure size 432x288 with 1 Axes>"
      ]
     },
     "metadata": {
      "needs_background": "light"
     },
     "output_type": "display_data"
    }
   ],
   "source": [
    "graduationEnroll.plot.hist('college enroll 2010-11');"
   ]
  },
  {
   "cell_type": "code",
   "execution_count": null,
   "metadata": {},
   "outputs": [],
   "source": []
  }
 ],
 "metadata": {
  "kernelspec": {
   "display_name": "Python 3",
   "language": "python",
   "name": "python3"
  },
  "language_info": {
   "codemirror_mode": {
    "name": "ipython",
    "version": 3
   },
   "file_extension": ".py",
   "mimetype": "text/x-python",
   "name": "python",
   "nbconvert_exporter": "python",
   "pygments_lexer": "ipython3",
   "version": "3.7.4"
  }
 },
 "nbformat": 4,
 "nbformat_minor": 4
}
